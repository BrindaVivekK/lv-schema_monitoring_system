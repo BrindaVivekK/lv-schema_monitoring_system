{
 "cells": [
  {
   "cell_type": "code",
   "execution_count": 0,
   "metadata": {
    "application/vnd.databricks.v1+cell": {
     "cellMetadata": {},
     "inputWidgets": {},
     "nuid": "9a0901a5-4d61-4d39-ab47-7f757f873920",
     "showTitle": false,
     "title": ""
    }
   },
   "outputs": [],
   "source": [
    "{\"BookID\": \"INT\", \"Title\": \"STRING\", \"AuthorID\": \"INT\", \"Publication_Date\": \"DATE\", \"Price\": \"DECIMAL\", \"Genre\": \"STRING\", \"Pages\": \"INT\", \"Publisher\": \"STRING\", \"Reviews\": \"STRING\", \"Comments\": \"STRING\", \"Description\": \"STRING\", \"Description_10\": \"STRING\", \"Description_2\": \"STRING\", \"Description_5\": \"STRING\", \"Rating\": \"INT\", \"Rating_float\": \"FLOAT\"}"
   ]
  },
  {
   "cell_type": "code",
   "execution_count": 0,
   "metadata": {
    "application/vnd.databricks.v1+cell": {
     "cellMetadata": {
      "byteLimit": 2048000,
      "implicitDf": true,
      "rowLimit": 10000
     },
     "inputWidgets": {},
     "nuid": "79fba91d-e8ab-4aba-a56a-af71d38edb4e",
     "showTitle": false,
     "title": ""
    }
   },
   "outputs": [],
   "source": [
    "%sql\n",
    "alter table ds_training_1.ds_silver.book drop column (Description_5)"
   ]
  },
  {
   "cell_type": "code",
   "execution_count": 0,
   "metadata": {
    "application/vnd.databricks.v1+cell": {
     "cellMetadata": {
      "byteLimit": 2048000,
      "implicitDf": true,
      "rowLimit": 10000
     },
     "inputWidgets": {},
     "nuid": "7b76c08b-4242-4f55-93f5-fda271bbeba8",
     "showTitle": false,
     "title": ""
    }
   },
   "outputs": [],
   "source": [
    "%sql\n",
    "alter table ds_training_1.ds_silver.book add column (Rating_double double)"
   ]
  },
  {
   "cell_type": "code",
   "execution_count": 0,
   "metadata": {
    "application/vnd.databricks.v1+cell": {
     "cellMetadata": {
      "byteLimit": 2048000,
      "implicitDf": true,
      "rowLimit": 10000
     },
     "inputWidgets": {},
     "nuid": "07b3d4a6-79f1-4f4d-961f-042fa0ed8104",
     "showTitle": false,
     "title": ""
    }
   },
   "outputs": [
    {
     "output_type": "display_data",
     "data": {
      "text/html": [
       "<style scoped>\n",
       "  .table-result-container {\n",
       "    max-height: 300px;\n",
       "    overflow: auto;\n",
       "  }\n",
       "  table, th, td {\n",
       "    border: 1px solid black;\n",
       "    border-collapse: collapse;\n",
       "  }\n",
       "  th, td {\n",
       "    padding: 5px;\n",
       "  }\n",
       "  th {\n",
       "    text-align: left;\n",
       "  }\n",
       "</style><div class='table-result-container'><table class='table-result'><thead style='background-color: white'><tr><th>num_affected_rows</th></tr></thead><tbody><tr><td>16</td></tr></tbody></table></div>"
      ]
     },
     "metadata": {
      "application/vnd.databricks.v1+output": {
       "addedWidgets": {},
       "aggData": [],
       "aggError": "",
       "aggOverflow": false,
       "aggSchema": [],
       "aggSeriesLimitReached": false,
       "aggType": "",
       "arguments": {},
       "columnCustomDisplayInfos": {},
       "data": [
        [
         16
        ]
       ],
       "datasetInfos": [
        {
         "name": "_sqldf",
         "schema": {
          "fields": [
           {
            "metadata": {},
            "name": "num_affected_rows",
            "nullable": true,
            "type": "long"
           }
          ],
          "type": "struct"
         },
         "tableIdentifier": null,
         "typeStr": "pyspark.sql.connect.dataframe.DataFrame"
        }
       ],
       "dbfsResultPath": null,
       "isJsonSchema": true,
       "metadata": {
        "createTempViewForImplicitDf": true,
        "dataframeName": "_sqldf",
        "executionCount": 2
       },
       "overflow": false,
       "plotOptions": {
        "customPlotOptions": {},
        "displayType": "table",
        "pivotAggregation": null,
        "pivotColumns": null,
        "xColumns": null,
        "yColumns": null
       },
       "removedWidgets": [],
       "schema": [
        {
         "metadata": "{}",
         "name": "num_affected_rows",
         "type": "\"long\""
        }
       ],
       "type": "table"
      }
     },
     "output_type": "display_data"
    }
   ],
   "source": [
    "%sql\n",
    "update ds_training_1.ds_silver.book set Rating_double=Rating"
   ]
  },
  {
   "cell_type": "code",
   "execution_count": 0,
   "metadata": {
    "application/vnd.databricks.v1+cell": {
     "cellMetadata": {
      "byteLimit": 2048000,
      "implicitDf": true,
      "rowLimit": 10000
     },
     "inputWidgets": {},
     "nuid": "deb08648-28b2-40f2-8731-8d2559f17b0e",
     "showTitle": false,
     "title": ""
    }
   },
   "outputs": [],
   "source": [
    "%sql\n",
    "alter table ds_training_1.ds_silver.book drop column (Rating)"
   ]
  },
  {
   "cell_type": "code",
   "execution_count": 0,
   "metadata": {
    "application/vnd.databricks.v1+cell": {
     "cellMetadata": {
      "byteLimit": 2048000,
      "implicitDf": true,
      "rowLimit": 10000
     },
     "inputWidgets": {},
     "nuid": "304caecd-3f26-44b2-a15a-56a98a579e3a",
     "showTitle": false,
     "title": ""
    }
   },
   "outputs": [],
   "source": [
    "%sql\n",
    "alter table ds_training_1.ds_silver.book rename column Rating_double to Rating"
   ]
  },
  {
   "cell_type": "code",
   "execution_count": 0,
   "metadata": {
    "application/vnd.databricks.v1+cell": {
     "cellMetadata": {
      "byteLimit": 2048000,
      "implicitDf": true,
      "rowLimit": 10000
     },
     "inputWidgets": {},
     "nuid": "8af4c131-4222-4661-a6b3-8f3de8158020",
     "showTitle": false,
     "title": ""
    }
   },
   "outputs": [],
   "source": [
    "%sql\n",
    "alter table ds_training_1.ds_silver.book add column (Description_V VARCHAR(10))"
   ]
  },
  {
   "cell_type": "code",
   "execution_count": 0,
   "metadata": {
    "application/vnd.databricks.v1+cell": {
     "cellMetadata": {
      "byteLimit": 2048000,
      "implicitDf": true,
      "rowLimit": 10000
     },
     "inputWidgets": {},
     "nuid": "43e54841-241d-4532-b3e5-bf8ca764a856",
     "showTitle": false,
     "title": ""
    }
   },
   "outputs": [
    {
     "output_type": "display_data",
     "data": {
      "text/html": [
       "<style scoped>\n",
       "  .table-result-container {\n",
       "    max-height: 300px;\n",
       "    overflow: auto;\n",
       "  }\n",
       "  table, th, td {\n",
       "    border: 1px solid black;\n",
       "    border-collapse: collapse;\n",
       "  }\n",
       "  th, td {\n",
       "    padding: 5px;\n",
       "  }\n",
       "  th {\n",
       "    text-align: left;\n",
       "  }\n",
       "</style><div class='table-result-container'><table class='table-result'><thead style='background-color: white'><tr><th>num_affected_rows</th></tr></thead><tbody><tr><td>16</td></tr></tbody></table></div>"
      ]
     },
     "metadata": {
      "application/vnd.databricks.v1+output": {
       "addedWidgets": {},
       "aggData": [],
       "aggError": "",
       "aggOverflow": false,
       "aggSchema": [],
       "aggSeriesLimitReached": false,
       "aggType": "",
       "arguments": {},
       "columnCustomDisplayInfos": {},
       "data": [
        [
         16
        ]
       ],
       "datasetInfos": [
        {
         "name": "_sqldf",
         "schema": {
          "fields": [
           {
            "metadata": {},
            "name": "num_affected_rows",
            "nullable": true,
            "type": "long"
           }
          ],
          "type": "struct"
         },
         "tableIdentifier": null,
         "typeStr": "pyspark.sql.connect.dataframe.DataFrame"
        }
       ],
       "dbfsResultPath": null,
       "isJsonSchema": true,
       "metadata": {
        "createTempViewForImplicitDf": true,
        "dataframeName": "_sqldf",
        "executionCount": 7
       },
       "overflow": false,
       "plotOptions": {
        "customPlotOptions": {},
        "displayType": "table",
        "pivotAggregation": null,
        "pivotColumns": null,
        "xColumns": null,
        "yColumns": null
       },
       "removedWidgets": [],
       "schema": [
        {
         "metadata": "{}",
         "name": "num_affected_rows",
         "type": "\"long\""
        }
       ],
       "type": "table"
      }
     },
     "output_type": "display_data"
    }
   ],
   "source": [
    "%sql\n",
    "update ds_training_1.ds_silver.book set Description_V=Description"
   ]
  },
  {
   "cell_type": "code",
   "execution_count": 0,
   "metadata": {
    "application/vnd.databricks.v1+cell": {
     "cellMetadata": {
      "byteLimit": 2048000,
      "implicitDf": true,
      "rowLimit": 10000
     },
     "inputWidgets": {},
     "nuid": "219dc8a4-6174-499f-9c1b-db71141545d9",
     "showTitle": false,
     "title": ""
    }
   },
   "outputs": [],
   "source": [
    "%sql\n",
    "alter table ds_training_1.ds_silver.book drop column (Description)"
   ]
  },
  {
   "cell_type": "code",
   "execution_count": 0,
   "metadata": {
    "application/vnd.databricks.v1+cell": {
     "cellMetadata": {
      "byteLimit": 2048000,
      "implicitDf": true,
      "rowLimit": 10000
     },
     "inputWidgets": {},
     "nuid": "10f9be0e-2400-42da-9a26-d3f6f107db71",
     "showTitle": false,
     "title": ""
    }
   },
   "outputs": [],
   "source": [
    "%sql\n",
    "alter table ds_training_1.ds_silver.book rename column Description_V to Description"
   ]
  },
  {
   "cell_type": "code",
   "execution_count": 0,
   "metadata": {
    "application/vnd.databricks.v1+cell": {
     "cellMetadata": {
      "byteLimit": 2048000,
      "implicitDf": true,
      "rowLimit": 10000
     },
     "inputWidgets": {},
     "nuid": "613376f3-d4bd-4bde-b7b2-e1e52f4eef21",
     "showTitle": false,
     "title": ""
    }
   },
   "outputs": [
    {
     "output_type": "display_data",
     "data": {
      "text/html": [
       "<style scoped>\n",
       "  .table-result-container {\n",
       "    max-height: 300px;\n",
       "    overflow: auto;\n",
       "  }\n",
       "  table, th, td {\n",
       "    border: 1px solid black;\n",
       "    border-collapse: collapse;\n",
       "  }\n",
       "  th, td {\n",
       "    padding: 5px;\n",
       "  }\n",
       "  th {\n",
       "    text-align: left;\n",
       "  }\n",
       "</style><div class='table-result-container'><table class='table-result'><thead style='background-color: white'><tr><th>version</th><th>timestamp</th><th>userId</th><th>userName</th><th>operation</th><th>operationParameters</th><th>job</th><th>notebook</th><th>clusterId</th><th>readVersion</th><th>isolationLevel</th><th>isBlindAppend</th><th>operationMetrics</th><th>userMetadata</th><th>engineInfo</th></tr></thead><tbody><tr><td>75</td><td>2024-10-21T12:41:32Z</td><td>2870784375674948</td><td>brindavivek.kotha@latentviewo365.onmicrosoft.com</td><td>RENAME COLUMN</td><td>Map(oldColumnPath -> Description_V, newColumnPath -> Description)</td><td>null</td><td>List(2666924996517916)</td><td>0826-105928-frmwcb7g</td><td>74</td><td>WriteSerializable</td><td>true</td><td>Map()</td><td>null</td><td>Databricks-Runtime/15.4.x-scala2.12</td></tr><tr><td>74</td><td>2024-10-21T12:41:20Z</td><td>2870784375674948</td><td>brindavivek.kotha@latentviewo365.onmicrosoft.com</td><td>DROP COLUMNS</td><td>Map(columns -> [\"Description\"])</td><td>null</td><td>List(2666924996517916)</td><td>0826-105928-frmwcb7g</td><td>73</td><td>WriteSerializable</td><td>true</td><td>Map()</td><td>null</td><td>Databricks-Runtime/15.4.x-scala2.12</td></tr><tr><td>73</td><td>2024-10-21T12:41:08Z</td><td>2870784375674948</td><td>brindavivek.kotha@latentviewo365.onmicrosoft.com</td><td>UPDATE</td><td>Map(predicate -> [])</td><td>null</td><td>List(2666924996517916)</td><td>0826-105928-frmwcb7g</td><td>72</td><td>WriteSerializable</td><td>false</td><td>Map(numRemovedFiles -> 1, numRemovedBytes -> 8305, numCopiedRows -> 0, numDeletionVectorsAdded -> 0, numDeletionVectorsRemoved -> 0, numAddedChangeFiles -> 0, executionTimeMs -> 2054, numDeletionVectorsUpdated -> 0, scanTimeMs -> 915, numAddedFiles -> 1, numUpdatedRows -> 16, numAddedBytes -> 8284, rewriteTimeMs -> 1139)</td><td>null</td><td>Databricks-Runtime/15.4.x-scala2.12</td></tr><tr><td>72</td><td>2024-10-21T12:41:01Z</td><td>2870784375674948</td><td>brindavivek.kotha@latentviewo365.onmicrosoft.com</td><td>ADD COLUMNS</td><td>Map(columns -> [{\"column\":{\"name\":\"Description_V\",\"type\":\"varchar(10)\",\"nullable\":true,\"metadata\":{}}}])</td><td>null</td><td>List(2666924996517916)</td><td>0826-105928-frmwcb7g</td><td>71</td><td>WriteSerializable</td><td>true</td><td>Map()</td><td>null</td><td>Databricks-Runtime/15.4.x-scala2.12</td></tr><tr><td>71</td><td>2024-10-21T12:39:16Z</td><td>2870784375674948</td><td>brindavivek.kotha@latentviewo365.onmicrosoft.com</td><td>RENAME COLUMN</td><td>Map(oldColumnPath -> Rating_double, newColumnPath -> Rating)</td><td>null</td><td>List(2666924996517916)</td><td>0826-105928-frmwcb7g</td><td>70</td><td>WriteSerializable</td><td>true</td><td>Map()</td><td>null</td><td>Databricks-Runtime/15.4.x-scala2.12</td></tr><tr><td>70</td><td>2024-10-21T12:39:07Z</td><td>2870784375674948</td><td>brindavivek.kotha@latentviewo365.onmicrosoft.com</td><td>DROP COLUMNS</td><td>Map(columns -> [\"Rating\"])</td><td>null</td><td>List(2666924996517916)</td><td>0826-105928-frmwcb7g</td><td>69</td><td>WriteSerializable</td><td>true</td><td>Map()</td><td>null</td><td>Databricks-Runtime/15.4.x-scala2.12</td></tr><tr><td>69</td><td>2024-10-21T12:38:56Z</td><td>2870784375674948</td><td>brindavivek.kotha@latentviewo365.onmicrosoft.com</td><td>UPDATE</td><td>Map(predicate -> [])</td><td>null</td><td>List(2666924996517916)</td><td>0826-105928-frmwcb7g</td><td>68</td><td>WriteSerializable</td><td>false</td><td>Map(numRemovedFiles -> 1, numRemovedBytes -> 7784, numCopiedRows -> 0, numDeletionVectorsAdded -> 0, numDeletionVectorsRemoved -> 0, numAddedChangeFiles -> 0, executionTimeMs -> 8445, numDeletionVectorsUpdated -> 0, scanTimeMs -> 3135, numAddedFiles -> 1, numUpdatedRows -> 16, numAddedBytes -> 8305, rewriteTimeMs -> 5289)</td><td>null</td><td>Databricks-Runtime/15.4.x-scala2.12</td></tr><tr><td>68</td><td>2024-10-21T12:38:20Z</td><td>2870784375674948</td><td>brindavivek.kotha@latentviewo365.onmicrosoft.com</td><td>ADD COLUMNS</td><td>Map(columns -> [{\"column\":{\"name\":\"Rating_double\",\"type\":\"double\",\"nullable\":true,\"metadata\":{}}}])</td><td>null</td><td>List(2666924996517916)</td><td>0826-105928-frmwcb7g</td><td>67</td><td>WriteSerializable</td><td>true</td><td>Map()</td><td>null</td><td>Databricks-Runtime/15.4.x-scala2.12</td></tr><tr><td>67</td><td>2024-10-18T06:19:10Z</td><td>2870784375674948</td><td>brindavivek.kotha@latentviewo365.onmicrosoft.com</td><td>UPDATE</td><td>Map(predicate -> [])</td><td>null</td><td>List(3618652633471598)</td><td>0826-105928-frmwcb7g</td><td>66</td><td>WriteSerializable</td><td>false</td><td>Map(numRemovedFiles -> 1, numRemovedBytes -> 7774, numCopiedRows -> 0, numDeletionVectorsAdded -> 0, numDeletionVectorsRemoved -> 0, numAddedChangeFiles -> 0, executionTimeMs -> 2029, numDeletionVectorsUpdated -> 0, scanTimeMs -> 745, numAddedFiles -> 1, numUpdatedRows -> 16, numAddedBytes -> 7784, rewriteTimeMs -> 1284)</td><td>null</td><td>Databricks-Runtime/15.4.x-scala2.12</td></tr><tr><td>66</td><td>2024-10-18T06:18:32Z</td><td>2870784375674948</td><td>brindavivek.kotha@latentviewo365.onmicrosoft.com</td><td>ADD COLUMNS</td><td>Map(columns -> [{\"column\":{\"name\":\"Rating_float\",\"type\":\"float\",\"nullable\":true,\"metadata\":{}}}])</td><td>null</td><td>List(3618652633471598)</td><td>0826-105928-frmwcb7g</td><td>65</td><td>WriteSerializable</td><td>true</td><td>Map()</td><td>null</td><td>Databricks-Runtime/15.4.x-scala2.12</td></tr><tr><td>65</td><td>2024-10-18T06:01:01Z</td><td>2870784375674948</td><td>brindavivek.kotha@latentviewo365.onmicrosoft.com</td><td>SET TBLPROPERTIES</td><td>Map(properties -> {\"delta.minReaderVersion\":\"2\",\"delta.minWriterVersion\":\"5\",\"delta.columnMapping.mode\":\"name\"})</td><td>null</td><td>List(3618652633471598)</td><td>0826-105928-frmwcb7g</td><td>64</td><td>WriteSerializable</td><td>true</td><td>Map()</td><td>null</td><td>Databricks-Runtime/15.4.x-scala2.12</td></tr><tr><td>64</td><td>2024-10-18T05:57:06Z</td><td>2870784375674948</td><td>brindavivek.kotha@latentviewo365.onmicrosoft.com</td><td>DROP COLUMNS</td><td>Map(columns -> [\"Rating_float\"])</td><td>null</td><td>List(3618652633471598)</td><td>0826-105928-frmwcb7g</td><td>63</td><td>WriteSerializable</td><td>true</td><td>Map()</td><td>null</td><td>Databricks-Runtime/15.4.x-scala2.12</td></tr><tr><td>63</td><td>2024-10-18T05:56:58Z</td><td>2870784375674948</td><td>brindavivek.kotha@latentviewo365.onmicrosoft.com</td><td>ADD COLUMNS</td><td>Map(columns -> [{\"column\":{\"name\":\"Rating_float\",\"type\":\"float\",\"nullable\":true,\"metadata\":{}}}])</td><td>null</td><td>List(3618652633471598)</td><td>0826-105928-frmwcb7g</td><td>62</td><td>WriteSerializable</td><td>true</td><td>Map()</td><td>null</td><td>Databricks-Runtime/15.4.x-scala2.12</td></tr><tr><td>62</td><td>2024-10-08T05:59:39Z</td><td>2870784375674948</td><td>brindavivek.kotha@latentviewo365.onmicrosoft.com</td><td>RENAME COLUMN</td><td>Map(oldColumnPath -> Rating_n, newColumnPath -> Rating)</td><td>null</td><td>List(4438279648331490)</td><td>0826-105928-frmwcb7g</td><td>61</td><td>WriteSerializable</td><td>true</td><td>Map()</td><td>null</td><td>Databricks-Runtime/15.4.x-scala2.12</td></tr><tr><td>61</td><td>2024-10-08T05:59:33Z</td><td>2870784375674948</td><td>brindavivek.kotha@latentviewo365.onmicrosoft.com</td><td>DROP COLUMNS</td><td>Map(columns -> [\"Rating\"])</td><td>null</td><td>List(4438279648331490)</td><td>0826-105928-frmwcb7g</td><td>60</td><td>WriteSerializable</td><td>true</td><td>Map()</td><td>null</td><td>Databricks-Runtime/15.4.x-scala2.12</td></tr><tr><td>60</td><td>2024-10-08T05:59:26Z</td><td>2870784375674948</td><td>brindavivek.kotha@latentviewo365.onmicrosoft.com</td><td>UPDATE</td><td>Map(predicate -> [])</td><td>null</td><td>List(4438279648331490)</td><td>0826-105928-frmwcb7g</td><td>59</td><td>WriteSerializable</td><td>false</td><td>Map(numRemovedFiles -> 1, numRemovedBytes -> 7774, numCopiedRows -> 0, numDeletionVectorsAdded -> 0, numDeletionVectorsRemoved -> 0, numAddedChangeFiles -> 0, executionTimeMs -> 1653, numDeletionVectorsUpdated -> 0, scanTimeMs -> 667, numAddedFiles -> 1, numUpdatedRows -> 16, numAddedBytes -> 7774, rewriteTimeMs -> 986)</td><td>null</td><td>Databricks-Runtime/15.4.x-scala2.12</td></tr><tr><td>59</td><td>2024-10-08T05:59:17Z</td><td>2870784375674948</td><td>brindavivek.kotha@latentviewo365.onmicrosoft.com</td><td>ADD COLUMNS</td><td>Map(columns -> [{\"column\":{\"name\":\"Rating_n\",\"type\":\"integer\",\"nullable\":true,\"metadata\":{}}}])</td><td>null</td><td>List(4438279648331490)</td><td>0826-105928-frmwcb7g</td><td>58</td><td>WriteSerializable</td><td>true</td><td>Map()</td><td>null</td><td>Databricks-Runtime/15.4.x-scala2.12</td></tr><tr><td>58</td><td>2024-10-08T05:57:44Z</td><td>2870784375674948</td><td>brindavivek.kotha@latentviewo365.onmicrosoft.com</td><td>ADD COLUMNS</td><td>Map(columns -> [{\"column\":{\"name\":\"Description_5\",\"type\":\"string\",\"nullable\":true,\"metadata\":{}}}])</td><td>null</td><td>List(4438279648331490)</td><td>0826-105928-frmwcb7g</td><td>57</td><td>WriteSerializable</td><td>true</td><td>Map()</td><td>null</td><td>Databricks-Runtime/15.4.x-scala2.12</td></tr><tr><td>57</td><td>2024-10-08T05:57:32Z</td><td>2870784375674948</td><td>brindavivek.kotha@latentviewo365.onmicrosoft.com</td><td>RENAME COLUMN</td><td>Map(oldColumnPath -> Description_1, newColumnPath -> Description_10)</td><td>null</td><td>List(4438279648331490)</td><td>0826-105928-frmwcb7g</td><td>56</td><td>WriteSerializable</td><td>true</td><td>Map()</td><td>null</td><td>Databricks-Runtime/15.4.x-scala2.12</td></tr><tr><td>56</td><td>2024-10-08T05:57:25Z</td><td>2870784375674948</td><td>brindavivek.kotha@latentviewo365.onmicrosoft.com</td><td>DROP COLUMNS</td><td>Map(columns -> [\"Description_3\"])</td><td>null</td><td>List(4438279648331490)</td><td>0826-105928-frmwcb7g</td><td>55</td><td>WriteSerializable</td><td>true</td><td>Map()</td><td>null</td><td>Databricks-Runtime/15.4.x-scala2.12</td></tr><tr><td>55</td><td>2024-10-08T05:49:27Z</td><td>2870784375674948</td><td>brindavivek.kotha@latentviewo365.onmicrosoft.com</td><td>RENAME COLUMN</td><td>Map(oldColumnPath -> Rating_n, newColumnPath -> Rating)</td><td>null</td><td>List(4438279648331490)</td><td>0826-105928-frmwcb7g</td><td>54</td><td>WriteSerializable</td><td>true</td><td>Map()</td><td>null</td><td>Databricks-Runtime/15.4.x-scala2.12</td></tr><tr><td>54</td><td>2024-10-08T05:49:16Z</td><td>2870784375674948</td><td>brindavivek.kotha@latentviewo365.onmicrosoft.com</td><td>DROP COLUMNS</td><td>Map(columns -> [\"Rating\"])</td><td>null</td><td>List(4438279648331490)</td><td>0826-105928-frmwcb7g</td><td>53</td><td>WriteSerializable</td><td>true</td><td>Map()</td><td>null</td><td>Databricks-Runtime/15.4.x-scala2.12</td></tr><tr><td>53</td><td>2024-10-08T05:49:01Z</td><td>2870784375674948</td><td>brindavivek.kotha@latentviewo365.onmicrosoft.com</td><td>UPDATE</td><td>Map(predicate -> [])</td><td>null</td><td>List(4438279648331490)</td><td>0826-105928-frmwcb7g</td><td>52</td><td>WriteSerializable</td><td>false</td><td>Map(numRemovedFiles -> 1, numRemovedBytes -> 7786, numCopiedRows -> 0, numDeletionVectorsAdded -> 0, numDeletionVectorsRemoved -> 0, numAddedChangeFiles -> 0, executionTimeMs -> 1494, numDeletionVectorsUpdated -> 0, scanTimeMs -> 656, numAddedFiles -> 1, numUpdatedRows -> 16, numAddedBytes -> 7774, rewriteTimeMs -> 838)</td><td>null</td><td>Databricks-Runtime/15.4.x-scala2.12</td></tr><tr><td>52</td><td>2024-10-08T05:48:53Z</td><td>2870784375674948</td><td>brindavivek.kotha@latentviewo365.onmicrosoft.com</td><td>ADD COLUMNS</td><td>Map(columns -> [{\"column\":{\"name\":\"Rating_n\",\"type\":\"string\",\"nullable\":true,\"metadata\":{}}}])</td><td>null</td><td>List(4438279648331490)</td><td>0826-105928-frmwcb7g</td><td>51</td><td>WriteSerializable</td><td>true</td><td>Map()</td><td>null</td><td>Databricks-Runtime/15.4.x-scala2.12</td></tr><tr><td>51</td><td>2024-10-08T05:35:25Z</td><td>2870784375674948</td><td>brindavivek.kotha@latentviewo365.onmicrosoft.com</td><td>RENAME COLUMN</td><td>Map(oldColumnPath -> Rating_t, newColumnPath -> Rating)</td><td>null</td><td>List(4438279648331490)</td><td>0826-105928-frmwcb7g</td><td>50</td><td>WriteSerializable</td><td>true</td><td>Map()</td><td>null</td><td>Databricks-Runtime/15.4.x-scala2.12</td></tr><tr><td>50</td><td>2024-10-08T05:35:14Z</td><td>2870784375674948</td><td>brindavivek.kotha@latentviewo365.onmicrosoft.com</td><td>DROP COLUMNS</td><td>Map(columns -> [\"Rating\"])</td><td>null</td><td>List(4438279648331490)</td><td>0826-105928-frmwcb7g</td><td>49</td><td>WriteSerializable</td><td>true</td><td>Map()</td><td>null</td><td>Databricks-Runtime/15.4.x-scala2.12</td></tr><tr><td>49</td><td>2024-10-08T05:34:19Z</td><td>2870784375674948</td><td>brindavivek.kotha@latentviewo365.onmicrosoft.com</td><td>UPDATE</td><td>Map(predicate -> [])</td><td>null</td><td>List(4438279648331490)</td><td>0826-105928-frmwcb7g</td><td>48</td><td>WriteSerializable</td><td>false</td><td>Map(numRemovedFiles -> 1, numRemovedBytes -> 7774, numCopiedRows -> 0, numDeletionVectorsAdded -> 0, numDeletionVectorsRemoved -> 0, numAddedChangeFiles -> 0, executionTimeMs -> 1551, numDeletionVectorsUpdated -> 0, scanTimeMs -> 673, numAddedFiles -> 1, numUpdatedRows -> 16, numAddedBytes -> 7786, rewriteTimeMs -> 877)</td><td>null</td><td>Databricks-Runtime/15.4.x-scala2.12</td></tr><tr><td>48</td><td>2024-10-08T05:34:10Z</td><td>2870784375674948</td><td>brindavivek.kotha@latentviewo365.onmicrosoft.com</td><td>ADD COLUMNS</td><td>Map(columns -> [{\"column\":{\"name\":\"Rating_t\",\"type\":\"integer\",\"nullable\":true,\"metadata\":{}}}])</td><td>null</td><td>List(4438279648331490)</td><td>0826-105928-frmwcb7g</td><td>47</td><td>WriteSerializable</td><td>true</td><td>Map()</td><td>null</td><td>Databricks-Runtime/15.4.x-scala2.12</td></tr><tr><td>47</td><td>2024-10-08T05:19:38Z</td><td>2870784375674948</td><td>brindavivek.kotha@latentviewo365.onmicrosoft.com</td><td>RENAME COLUMN</td><td>Map(oldColumnPath -> Rating_n, newColumnPath -> Rating)</td><td>null</td><td>List(4438279648331490)</td><td>0826-105928-frmwcb7g</td><td>46</td><td>WriteSerializable</td><td>true</td><td>Map()</td><td>null</td><td>Databricks-Runtime/15.4.x-scala2.12</td></tr><tr><td>46</td><td>2024-10-08T05:18:49Z</td><td>2870784375674948</td><td>brindavivek.kotha@latentviewo365.onmicrosoft.com</td><td>DROP COLUMNS</td><td>Map(columns -> [\"Rating\"])</td><td>null</td><td>List(4438279648331490)</td><td>0826-105928-frmwcb7g</td><td>45</td><td>WriteSerializable</td><td>true</td><td>Map()</td><td>null</td><td>Databricks-Runtime/15.4.x-scala2.12</td></tr><tr><td>45</td><td>2024-10-08T05:18:23Z</td><td>2870784375674948</td><td>brindavivek.kotha@latentviewo365.onmicrosoft.com</td><td>UPDATE</td><td>Map(predicate -> [])</td><td>null</td><td>List(4438279648331490)</td><td>0826-105928-frmwcb7g</td><td>44</td><td>WriteSerializable</td><td>false</td><td>Map(numRemovedFiles -> 1, numRemovedBytes -> 7280, numCopiedRows -> 0, numDeletionVectorsAdded -> 0, numDeletionVectorsRemoved -> 0, numAddedChangeFiles -> 0, executionTimeMs -> 1908, numDeletionVectorsUpdated -> 0, scanTimeMs -> 769, numAddedFiles -> 1, numUpdatedRows -> 16, numAddedBytes -> 7774, rewriteTimeMs -> 1139)</td><td>null</td><td>Databricks-Runtime/15.4.x-scala2.12</td></tr><tr><td>44</td><td>2024-10-08T05:18:03Z</td><td>2870784375674948</td><td>brindavivek.kotha@latentviewo365.onmicrosoft.com</td><td>ADD COLUMNS</td><td>Map(columns -> [{\"column\":{\"name\":\"Rating_n\",\"type\":\"integer\",\"nullable\":true,\"metadata\":{}}}])</td><td>null</td><td>List(4438279648331490)</td><td>0826-105928-frmwcb7g</td><td>43</td><td>WriteSerializable</td><td>true</td><td>Map()</td><td>null</td><td>Databricks-Runtime/15.4.x-scala2.12</td></tr><tr><td>43</td><td>2024-10-08T05:16:41Z</td><td>2870784375674948</td><td>brindavivek.kotha@latentviewo365.onmicrosoft.com</td><td>DROP COLUMNS</td><td>Map(columns -> [\"Rating_n\"])</td><td>null</td><td>List(4438279648331490)</td><td>0826-105928-frmwcb7g</td><td>42</td><td>WriteSerializable</td><td>true</td><td>Map()</td><td>null</td><td>Databricks-Runtime/15.4.x-scala2.12</td></tr><tr><td>42</td><td>2024-10-08T05:16:11Z</td><td>2870784375674948</td><td>brindavivek.kotha@latentviewo365.onmicrosoft.com</td><td>ADD COLUMNS</td><td>Map(columns -> [{\"column\":{\"name\":\"Rating_n\",\"type\":\"string\",\"nullable\":true,\"metadata\":{}}}])</td><td>null</td><td>List(4438279648331490)</td><td>0826-105928-frmwcb7g</td><td>41</td><td>WriteSerializable</td><td>true</td><td>Map()</td><td>null</td><td>Databricks-Runtime/15.4.x-scala2.12</td></tr><tr><td>41</td><td>2024-10-08T05:12:36Z</td><td>2870784375674948</td><td>brindavivek.kotha@latentviewo365.onmicrosoft.com</td><td>UPDATE</td><td>Map(predicate -> [])</td><td>null</td><td>List(4438279648331490)</td><td>0826-105928-frmwcb7g</td><td>40</td><td>WriteSerializable</td><td>false</td><td>Map(numRemovedFiles -> 2, numRemovedBytes -> 7997, numCopiedRows -> 0, numDeletionVectorsAdded -> 0, numDeletionVectorsRemoved -> 0, numAddedChangeFiles -> 0, executionTimeMs -> 4272, numDeletionVectorsUpdated -> 0, scanTimeMs -> 1210, numAddedFiles -> 1, numUpdatedRows -> 16, numAddedBytes -> 7280, rewriteTimeMs -> 3043)</td><td>null</td><td>Databricks-Runtime/15.4.x-scala2.12</td></tr><tr><td>40</td><td>2024-10-08T05:11:40Z</td><td>2870784375674948</td><td>brindavivek.kotha@latentviewo365.onmicrosoft.com</td><td>ADD COLUMNS</td><td>Map(columns -> [{\"column\":{\"name\":\"Rating\",\"type\":\"string\",\"nullable\":true,\"metadata\":{}}}])</td><td>null</td><td>List(4438279648331490)</td><td>0826-105928-frmwcb7g</td><td>39</td><td>WriteSerializable</td><td>true</td><td>Map()</td><td>null</td><td>Databricks-Runtime/15.4.x-scala2.12</td></tr><tr><td>39</td><td>2024-10-08T04:55:46Z</td><td>2870784375674948</td><td>brindavivek.kotha@latentviewo365.onmicrosoft.com</td><td>ADD COLUMNS</td><td>Map(columns -> [{\"column\":{\"name\":\"Description_3\",\"type\":\"string\",\"nullable\":true,\"metadata\":{}}}])</td><td>null</td><td>List(4438279648331490)</td><td>0826-105928-frmwcb7g</td><td>38</td><td>WriteSerializable</td><td>true</td><td>Map()</td><td>null</td><td>Databricks-Runtime/15.4.x-scala2.12</td></tr><tr><td>38</td><td>2024-10-08T04:55:42Z</td><td>2870784375674948</td><td>brindavivek.kotha@latentviewo365.onmicrosoft.com</td><td>RENAME COLUMN</td><td>Map(oldColumnPath -> Description_10, newColumnPath -> Description_1)</td><td>null</td><td>List(4438279648331490)</td><td>0826-105928-frmwcb7g</td><td>37</td><td>WriteSerializable</td><td>true</td><td>Map()</td><td>null</td><td>Databricks-Runtime/15.4.x-scala2.12</td></tr><tr><td>37</td><td>2024-10-08T04:55:35Z</td><td>2870784375674948</td><td>brindavivek.kotha@latentviewo365.onmicrosoft.com</td><td>DROP COLUMNS</td><td>Map(columns -> [\"Description_8\"])</td><td>null</td><td>List(4438279648331490)</td><td>0826-105928-frmwcb7g</td><td>36</td><td>WriteSerializable</td><td>true</td><td>Map()</td><td>null</td><td>Databricks-Runtime/15.4.x-scala2.12</td></tr><tr><td>36</td><td>2024-10-03T09:21:18Z</td><td>2870784375674948</td><td>brindavivek.kotha@latentviewo365.onmicrosoft.com</td><td>ADD COLUMNS</td><td>Map(columns -> [{\"column\":{\"name\":\"Description_8\",\"type\":\"string\",\"nullable\":true,\"metadata\":{}}}])</td><td>null</td><td>List(4409076708719166)</td><td>0826-105928-frmwcb7g</td><td>35</td><td>WriteSerializable</td><td>true</td><td>Map()</td><td>null</td><td>Databricks-Runtime/15.4.x-scala2.12</td></tr><tr><td>35</td><td>2024-10-03T09:21:15Z</td><td>2870784375674948</td><td>brindavivek.kotha@latentviewo365.onmicrosoft.com</td><td>RENAME COLUMN</td><td>Map(oldColumnPath -> Description_1, newColumnPath -> Description_10)</td><td>null</td><td>List(4409076708719166)</td><td>0826-105928-frmwcb7g</td><td>34</td><td>WriteSerializable</td><td>true</td><td>Map()</td><td>null</td><td>Databricks-Runtime/15.4.x-scala2.12</td></tr><tr><td>34</td><td>2024-10-03T09:21:12Z</td><td>2870784375674948</td><td>brindavivek.kotha@latentviewo365.onmicrosoft.com</td><td>DROP COLUMNS</td><td>Map(columns -> [\"Description_18\"])</td><td>null</td><td>List(4409076708719166)</td><td>0826-105928-frmwcb7g</td><td>33</td><td>WriteSerializable</td><td>true</td><td>Map()</td><td>null</td><td>Databricks-Runtime/15.4.x-scala2.12</td></tr><tr><td>33</td><td>2024-10-03T09:13:18Z</td><td>2870784375674948</td><td>brindavivek.kotha@latentviewo365.onmicrosoft.com</td><td>ADD COLUMNS</td><td>Map(columns -> [{\"column\":{\"name\":\"Description_18\",\"type\":\"string\",\"nullable\":true,\"metadata\":{}}}])</td><td>null</td><td>List(4409076708719166)</td><td>0826-105928-frmwcb7g</td><td>32</td><td>WriteSerializable</td><td>true</td><td>Map()</td><td>null</td><td>Databricks-Runtime/15.4.x-scala2.12</td></tr><tr><td>32</td><td>2024-10-03T09:13:07Z</td><td>2870784375674948</td><td>brindavivek.kotha@latentviewo365.onmicrosoft.com</td><td>RENAME COLUMN</td><td>Map(oldColumnPath -> Description_10, newColumnPath -> Description_1)</td><td>null</td><td>List(4409076708719166)</td><td>0826-105928-frmwcb7g</td><td>31</td><td>WriteSerializable</td><td>true</td><td>Map()</td><td>null</td><td>Databricks-Runtime/15.4.x-scala2.12</td></tr><tr><td>31</td><td>2024-10-03T09:13:01Z</td><td>2870784375674948</td><td>brindavivek.kotha@latentviewo365.onmicrosoft.com</td><td>DROP COLUMNS</td><td>Map(columns -> [\"Description_8\"])</td><td>null</td><td>List(4409076708719166)</td><td>0826-105928-frmwcb7g</td><td>30</td><td>WriteSerializable</td><td>true</td><td>Map()</td><td>null</td><td>Databricks-Runtime/15.4.x-scala2.12</td></tr><tr><td>30</td><td>2024-10-03T09:11:02Z</td><td>2870784375674948</td><td>brindavivek.kotha@latentviewo365.onmicrosoft.com</td><td>DROP COLUMNS</td><td>Map(columns -> [\"Description_18\"])</td><td>null</td><td>List(4409076708719166)</td><td>0826-105928-frmwcb7g</td><td>29</td><td>WriteSerializable</td><td>true</td><td>Map()</td><td>null</td><td>Databricks-Runtime/15.4.x-scala2.12</td></tr><tr><td>29</td><td>2024-10-03T09:10:51Z</td><td>2870784375674948</td><td>brindavivek.kotha@latentviewo365.onmicrosoft.com</td><td>RENAME COLUMN</td><td>Map(oldColumnPath -> Description_1, newColumnPath -> Description_10)</td><td>null</td><td>List(4409076708719166)</td><td>0826-105928-frmwcb7g</td><td>28</td><td>WriteSerializable</td><td>true</td><td>Map()</td><td>null</td><td>Databricks-Runtime/15.4.x-scala2.12</td></tr><tr><td>28</td><td>2024-10-03T09:10:43Z</td><td>2870784375674948</td><td>brindavivek.kotha@latentviewo365.onmicrosoft.com</td><td>ADD COLUMNS</td><td>Map(columns -> [{\"column\":{\"name\":\"Description_8\",\"type\":\"string\",\"nullable\":true,\"metadata\":{}}}])</td><td>null</td><td>List(4409076708719166)</td><td>0826-105928-frmwcb7g</td><td>27</td><td>WriteSerializable</td><td>true</td><td>Map()</td><td>null</td><td>Databricks-Runtime/15.4.x-scala2.12</td></tr><tr><td>27</td><td>2024-10-03T09:08:49Z</td><td>2870784375674948</td><td>brindavivek.kotha@latentviewo365.onmicrosoft.com</td><td>RENAME COLUMN</td><td>Map(oldColumnPath -> Description_10, newColumnPath -> Description_1)</td><td>null</td><td>List(4409076708719166)</td><td>0826-105928-frmwcb7g</td><td>26</td><td>WriteSerializable</td><td>true</td><td>Map()</td><td>null</td><td>Databricks-Runtime/15.4.x-scala2.12</td></tr><tr><td>26</td><td>2024-10-03T09:08:44Z</td><td>2870784375674948</td><td>brindavivek.kotha@latentviewo365.onmicrosoft.com</td><td>ADD COLUMNS</td><td>Map(columns -> [{\"column\":{\"name\":\"Description_18\",\"type\":\"string\",\"nullable\":true,\"metadata\":{}}}])</td><td>null</td><td>List(4409076708719166)</td><td>0826-105928-frmwcb7g</td><td>25</td><td>WriteSerializable</td><td>true</td><td>Map()</td><td>null</td><td>Databricks-Runtime/15.4.x-scala2.12</td></tr><tr><td>25</td><td>2024-10-03T09:08:16Z</td><td>2870784375674948</td><td>brindavivek.kotha@latentviewo365.onmicrosoft.com</td><td>DROP COLUMNS</td><td>Map(columns -> [\"Description_8\"])</td><td>null</td><td>List(4409076708719166)</td><td>0826-105928-frmwcb7g</td><td>24</td><td>WriteSerializable</td><td>true</td><td>Map()</td><td>null</td><td>Databricks-Runtime/15.4.x-scala2.12</td></tr><tr><td>24</td><td>2024-10-03T09:02:49Z</td><td>2870784375674948</td><td>brindavivek.kotha@latentviewo365.onmicrosoft.com</td><td>ADD COLUMNS</td><td>Map(columns -> [{\"column\":{\"name\":\"Description_8\",\"type\":\"string\",\"nullable\":true,\"metadata\":{}}}])</td><td>null</td><td>List(4409076708719166)</td><td>0826-105928-frmwcb7g</td><td>23</td><td>WriteSerializable</td><td>true</td><td>Map()</td><td>null</td><td>Databricks-Runtime/15.4.x-scala2.12</td></tr><tr><td>23</td><td>2024-10-03T09:02:37Z</td><td>2870784375674948</td><td>brindavivek.kotha@latentviewo365.onmicrosoft.com</td><td>RENAME COLUMN</td><td>Map(oldColumnPath -> Description_1, newColumnPath -> Description_10)</td><td>null</td><td>List(4409076708719166)</td><td>0826-105928-frmwcb7g</td><td>22</td><td>WriteSerializable</td><td>true</td><td>Map()</td><td>null</td><td>Databricks-Runtime/15.4.x-scala2.12</td></tr><tr><td>22</td><td>2024-10-03T09:02:14Z</td><td>2870784375674948</td><td>brindavivek.kotha@latentviewo365.onmicrosoft.com</td><td>DROP COLUMNS</td><td>Map(columns -> [\"Description_5\"])</td><td>null</td><td>List(4409076708719166)</td><td>0826-105928-frmwcb7g</td><td>21</td><td>WriteSerializable</td><td>true</td><td>Map()</td><td>null</td><td>Databricks-Runtime/15.4.x-scala2.12</td></tr><tr><td>21</td><td>2024-10-03T07:09:44Z</td><td>2870784375674948</td><td>brindavivek.kotha@latentviewo365.onmicrosoft.com</td><td>RENAME COLUMN</td><td>Map(oldColumnPath -> Description_11, newColumnPath -> Description_1)</td><td>null</td><td>List(4409076708719166)</td><td>0826-105928-frmwcb7g</td><td>20</td><td>WriteSerializable</td><td>true</td><td>Map()</td><td>null</td><td>Databricks-Runtime/15.4.x-scala2.12</td></tr><tr><td>20</td><td>2024-10-03T07:09:36Z</td><td>2870784375674948</td><td>brindavivek.kotha@latentviewo365.onmicrosoft.com</td><td>ADD COLUMNS</td><td>Map(columns -> [{\"column\":{\"name\":\"Description_5\",\"type\":\"string\",\"nullable\":true,\"metadata\":{}}}])</td><td>null</td><td>List(4409076708719166)</td><td>0826-105928-frmwcb7g</td><td>19</td><td>WriteSerializable</td><td>true</td><td>Map()</td><td>null</td><td>Databricks-Runtime/15.4.x-scala2.12</td></tr><tr><td>19</td><td>2024-10-03T07:09:26Z</td><td>2870784375674948</td><td>brindavivek.kotha@latentviewo365.onmicrosoft.com</td><td>DROP COLUMNS</td><td>Map(columns -> [\"Description_4\"])</td><td>null</td><td>List(4409076708719166)</td><td>0826-105928-frmwcb7g</td><td>18</td><td>WriteSerializable</td><td>true</td><td>Map()</td><td>null</td><td>Databricks-Runtime/15.4.x-scala2.12</td></tr><tr><td>18</td><td>2024-10-03T07:07:18Z</td><td>2870784375674948</td><td>brindavivek.kotha@latentviewo365.onmicrosoft.com</td><td>RENAME COLUMN</td><td>Map(oldColumnPath -> Description_1, newColumnPath -> Description_11)</td><td>null</td><td>List(4409076708719166)</td><td>0826-105928-frmwcb7g</td><td>17</td><td>WriteSerializable</td><td>true</td><td>Map()</td><td>null</td><td>Databricks-Runtime/15.4.x-scala2.12</td></tr><tr><td>17</td><td>2024-10-03T06:53:04Z</td><td>2870784375674948</td><td>brindavivek.kotha@latentviewo365.onmicrosoft.com</td><td>ADD COLUMNS</td><td>Map(columns -> [{\"column\":{\"name\":\"Description_4\",\"type\":\"string\",\"nullable\":true,\"metadata\":{}}}])</td><td>null</td><td>List(4409076708719166)</td><td>0826-105928-frmwcb7g</td><td>16</td><td>WriteSerializable</td><td>true</td><td>Map()</td><td>null</td><td>Databricks-Runtime/15.4.x-scala2.12</td></tr><tr><td>16</td><td>2024-10-03T06:42:30Z</td><td>2870784375674948</td><td>brindavivek.kotha@latentviewo365.onmicrosoft.com</td><td>DROP COLUMNS</td><td>Map(columns -> [\"Description_3\"])</td><td>null</td><td>List(4409076708719166)</td><td>0826-105928-frmwcb7g</td><td>15</td><td>WriteSerializable</td><td>true</td><td>Map()</td><td>null</td><td>Databricks-Runtime/15.4.x-scala2.12</td></tr><tr><td>15</td><td>2024-10-03T06:27:20Z</td><td>2870784375674948</td><td>brindavivek.kotha@latentviewo365.onmicrosoft.com</td><td>ADD COLUMNS</td><td>Map(columns -> [{\"column\":{\"name\":\"Description_3\",\"type\":\"string\",\"nullable\":true,\"metadata\":{}}}])</td><td>null</td><td>List(4409076708719166)</td><td>0826-105928-frmwcb7g</td><td>14</td><td>WriteSerializable</td><td>true</td><td>Map()</td><td>null</td><td>Databricks-Runtime/15.4.x-scala2.12</td></tr><tr><td>14</td><td>2024-10-03T06:25:14Z</td><td>2870784375674948</td><td>brindavivek.kotha@latentviewo365.onmicrosoft.com</td><td>ADD COLUMNS</td><td>Map(columns -> [{\"column\":{\"name\":\"Description_2\",\"type\":\"string\",\"nullable\":true,\"metadata\":{}}}])</td><td>null</td><td>List(4409076708719166)</td><td>0826-105928-frmwcb7g</td><td>13</td><td>WriteSerializable</td><td>true</td><td>Map()</td><td>null</td><td>Databricks-Runtime/15.4.x-scala2.12</td></tr><tr><td>13</td><td>2024-10-03T06:24:16Z</td><td>2870784375674948</td><td>brindavivek.kotha@latentviewo365.onmicrosoft.com</td><td>ADD COLUMNS</td><td>Map(columns -> [{\"column\":{\"name\":\"Description_1\",\"type\":\"string\",\"nullable\":true,\"metadata\":{}}}])</td><td>null</td><td>List(4409076708719166)</td><td>0826-105928-frmwcb7g</td><td>12</td><td>WriteSerializable</td><td>true</td><td>Map()</td><td>null</td><td>Databricks-Runtime/15.4.x-scala2.12</td></tr><tr><td>12</td><td>2024-10-03T06:12:54Z</td><td>2870784375674948</td><td>brindavivek.kotha@latentviewo365.onmicrosoft.com</td><td>ADD COLUMNS</td><td>Map(columns -> [{\"column\":{\"name\":\"Description\",\"type\":\"string\",\"nullable\":true,\"metadata\":{}}}])</td><td>null</td><td>List(4409076708719166)</td><td>0826-105928-frmwcb7g</td><td>11</td><td>WriteSerializable</td><td>true</td><td>Map()</td><td>null</td><td>Databricks-Runtime/15.4.x-scala2.12</td></tr><tr><td>11</td><td>2024-10-03T04:55:59Z</td><td>2870784375674948</td><td>brindavivek.kotha@latentviewo365.onmicrosoft.com</td><td>ADD COLUMNS</td><td>Map(columns -> [{\"column\":{\"name\":\"Comments\",\"type\":\"string\",\"nullable\":true,\"metadata\":{}}}])</td><td>null</td><td>List(4409076708719166)</td><td>0826-105928-frmwcb7g</td><td>10</td><td>WriteSerializable</td><td>true</td><td>Map()</td><td>null</td><td>Databricks-Runtime/15.4.x-scala2.12</td></tr><tr><td>10</td><td>2024-09-25T05:34:54Z</td><td>1260073923394757</td><td>vishal.kokkula@latentviewo365.onmicrosoft.com</td><td>WRITE</td><td>Map(mode -> Append, statsOnLoad -> false, partitionBy -> [])</td><td>null</td><td>List(3565766524707894)</td><td>0826-105928-frmwcb7g</td><td>9</td><td>WriteSerializable</td><td>true</td><td>Map(numFiles -> 1, numOutputRows -> 1, numOutputBytes -> 3423)</td><td>null</td><td>Databricks-Runtime/15.4.x-scala2.12</td></tr><tr><td>9</td><td>2024-09-24T17:50:28Z</td><td>2870784375674948</td><td>brindavivek.kotha@latentviewo365.onmicrosoft.com</td><td>RENAME COLUMN</td><td>Map(oldColumnPath -> Reviews_new, newColumnPath -> Reviews)</td><td>List(, null, null, , null, null)</td><td>null</td><td>null</td><td>8</td><td>WriteSerializable</td><td>true</td><td>Map()</td><td>null</td><td>Databricks-Runtime/15.3.x-photon-scala2.12</td></tr><tr><td>8</td><td>2024-09-24T17:50:27Z</td><td>2870784375674948</td><td>brindavivek.kotha@latentviewo365.onmicrosoft.com</td><td>DROP COLUMNS</td><td>Map(columns -> [\"Reviews\"])</td><td>List(, null, null, , null, null)</td><td>null</td><td>null</td><td>7</td><td>WriteSerializable</td><td>true</td><td>Map()</td><td>null</td><td>Databricks-Runtime/15.3.x-photon-scala2.12</td></tr><tr><td>7</td><td>2024-09-24T17:50:25Z</td><td>2870784375674948</td><td>brindavivek.kotha@latentviewo365.onmicrosoft.com</td><td>UPDATE</td><td>Map(predicate -> [])</td><td>List(, null, null, , null, null)</td><td>null</td><td>null</td><td>6</td><td>WriteSerializable</td><td>false</td><td>Map(numRemovedFiles -> 1, numRemovedBytes -> 3363, numCopiedRows -> 0, numDeletionVectorsAdded -> 0, numDeletionVectorsRemoved -> 0, numAddedChangeFiles -> 0, executionTimeMs -> 1169, numDeletionVectorsUpdated -> 0, scanTimeMs -> 51, numAddedFiles -> 1, numUpdatedRows -> 15, numAddedBytes -> 4574, rewriteTimeMs -> 1102)</td><td>null</td><td>Databricks-Runtime/15.3.x-photon-scala2.12</td></tr><tr><td>6</td><td>2024-09-24T17:50:22Z</td><td>2870784375674948</td><td>brindavivek.kotha@latentviewo365.onmicrosoft.com</td><td>ADD COLUMNS</td><td>Map(columns -> [{\"column\":{\"name\":\"Reviews_new\",\"type\":\"varchar(255)\",\"nullable\":true,\"metadata\":{}}}])</td><td>List(, null, null, , null, null)</td><td>null</td><td>null</td><td>5</td><td>WriteSerializable</td><td>true</td><td>Map()</td><td>null</td><td>Databricks-Runtime/15.3.x-photon-scala2.12</td></tr><tr><td>5</td><td>2024-09-24T17:45:23Z</td><td>2870784375674948</td><td>brindavivek.kotha@latentviewo365.onmicrosoft.com</td><td>RENAME COLUMN</td><td>Map(oldColumnPath -> Comments, newColumnPath -> Reviews)</td><td>List(, null, null, , null, null)</td><td>null</td><td>null</td><td>4</td><td>WriteSerializable</td><td>true</td><td>Map()</td><td>null</td><td>Databricks-Runtime/15.3.x-photon-scala2.12</td></tr><tr><td>4</td><td>2024-09-24T17:44:21Z</td><td>2870784375674948</td><td>brindavivek.kotha@latentviewo365.onmicrosoft.com</td><td>ADD COLUMNS</td><td>Map(columns -> [{\"column\":{\"name\":\"Comments\",\"type\":\"string\",\"nullable\":true,\"metadata\":{}}}])</td><td>List(, null, null, , null, null)</td><td>null</td><td>null</td><td>3</td><td>WriteSerializable</td><td>true</td><td>Map()</td><td>null</td><td>Databricks-Runtime/15.3.x-photon-scala2.12</td></tr><tr><td>3</td><td>2024-09-24T17:38:42Z</td><td>2870784375674948</td><td>brindavivek.kotha@latentviewo365.onmicrosoft.com</td><td>DROP COLUMNS</td><td>Map(columns -> [\"Comments\"])</td><td>List(, null, null, , null, null)</td><td>null</td><td>null</td><td>2</td><td>WriteSerializable</td><td>true</td><td>Map()</td><td>null</td><td>Databricks-Runtime/15.3.x-photon-scala2.12</td></tr><tr><td>2</td><td>2024-09-24T17:38:41Z</td><td>2870784375674948</td><td>brindavivek.kotha@latentviewo365.onmicrosoft.com</td><td>SET TBLPROPERTIES</td><td>Map(properties -> {\"delta.minReaderVersion\":\"2\",\"delta.minWriterVersion\":\"5\",\"delta.columnMapping.mode\":\"name\"})</td><td>List(, null, null, , null, null)</td><td>null</td><td>null</td><td>1</td><td>WriteSerializable</td><td>true</td><td>Map()</td><td>null</td><td>Databricks-Runtime/15.3.x-photon-scala2.12</td></tr><tr><td>1</td><td>2024-09-24T17:26:15Z</td><td>2870784375674948</td><td>brindavivek.kotha@latentviewo365.onmicrosoft.com</td><td>ADD COLUMNS</td><td>Map(columns -> [{\"column\":{\"name\":\"Comments\",\"type\":\"string\",\"nullable\":true,\"metadata\":{}}}])</td><td>List(, null, null, , null, null)</td><td>null</td><td>null</td><td>0</td><td>WriteSerializable</td><td>true</td><td>Map()</td><td>null</td><td>Databricks-Runtime/15.3.x-photon-scala2.12</td></tr><tr><td>0</td><td>2024-08-26T11:23:07Z</td><td>2870784375674948</td><td>brindavivek.kotha@latentviewo365.onmicrosoft.com</td><td>CREATE OR REPLACE TABLE AS SELECT</td><td>Map(partitionBy -> [], clusterBy -> [], description -> null, isManaged -> true, properties -> {\"delta.enableDeletionVectors\":\"true\"}, statsOnLoad -> false)</td><td>null</td><td>List(3358756682702763)</td><td>0826-105928-frmwcb7g</td><td>null</td><td>WriteSerializable</td><td>false</td><td>Map(numFiles -> 1, numOutputRows -> 15, numOutputBytes -> 3363)</td><td>null</td><td>Databricks-Runtime/15.4.x-scala2.12</td></tr></tbody></table></div>"
      ]
     },
     "metadata": {
      "application/vnd.databricks.v1+output": {
       "addedWidgets": {},
       "aggData": [],
       "aggError": "",
       "aggOverflow": false,
       "aggSchema": [],
       "aggSeriesLimitReached": false,
       "aggType": "",
       "arguments": {},
       "columnCustomDisplayInfos": {},
       "data": [
        [
         75,
         "2024-10-21T12:41:32Z",
         "2870784375674948",
         "brindavivek.kotha@latentviewo365.onmicrosoft.com",
         "RENAME COLUMN",
         {
          "newColumnPath": "Description",
          "oldColumnPath": "Description_V"
         },
         null,
         [
          "2666924996517916"
         ],
         "0826-105928-frmwcb7g",
         74,
         "WriteSerializable",
         true,
         {},
         null,
         "Databricks-Runtime/15.4.x-scala2.12"
        ],
        [
         74,
         "2024-10-21T12:41:20Z",
         "2870784375674948",
         "brindavivek.kotha@latentviewo365.onmicrosoft.com",
         "DROP COLUMNS",
         {
          "columns": "[\"Description\"]"
         },
         null,
         [
          "2666924996517916"
         ],
         "0826-105928-frmwcb7g",
         73,
         "WriteSerializable",
         true,
         {},
         null,
         "Databricks-Runtime/15.4.x-scala2.12"
        ],
        [
         73,
         "2024-10-21T12:41:08Z",
         "2870784375674948",
         "brindavivek.kotha@latentviewo365.onmicrosoft.com",
         "UPDATE",
         {
          "predicate": "[]"
         },
         null,
         [
          "2666924996517916"
         ],
         "0826-105928-frmwcb7g",
         72,
         "WriteSerializable",
         false,
         {
          "executionTimeMs": "2054",
          "numAddedBytes": "8284",
          "numAddedChangeFiles": "0",
          "numAddedFiles": "1",
          "numCopiedRows": "0",
          "numDeletionVectorsAdded": "0",
          "numDeletionVectorsRemoved": "0",
          "numDeletionVectorsUpdated": "0",
          "numRemovedBytes": "8305",
          "numRemovedFiles": "1",
          "numUpdatedRows": "16",
          "rewriteTimeMs": "1139",
          "scanTimeMs": "915"
         },
         null,
         "Databricks-Runtime/15.4.x-scala2.12"
        ],
        [
         72,
         "2024-10-21T12:41:01Z",
         "2870784375674948",
         "brindavivek.kotha@latentviewo365.onmicrosoft.com",
         "ADD COLUMNS",
         {
          "columns": "[{\"column\":{\"name\":\"Description_V\",\"type\":\"varchar(10)\",\"nullable\":true,\"metadata\":{}}}]"
         },
         null,
         [
          "2666924996517916"
         ],
         "0826-105928-frmwcb7g",
         71,
         "WriteSerializable",
         true,
         {},
         null,
         "Databricks-Runtime/15.4.x-scala2.12"
        ],
        [
         71,
         "2024-10-21T12:39:16Z",
         "2870784375674948",
         "brindavivek.kotha@latentviewo365.onmicrosoft.com",
         "RENAME COLUMN",
         {
          "newColumnPath": "Rating",
          "oldColumnPath": "Rating_double"
         },
         null,
         [
          "2666924996517916"
         ],
         "0826-105928-frmwcb7g",
         70,
         "WriteSerializable",
         true,
         {},
         null,
         "Databricks-Runtime/15.4.x-scala2.12"
        ],
        [
         70,
         "2024-10-21T12:39:07Z",
         "2870784375674948",
         "brindavivek.kotha@latentviewo365.onmicrosoft.com",
         "DROP COLUMNS",
         {
          "columns": "[\"Rating\"]"
         },
         null,
         [
          "2666924996517916"
         ],
         "0826-105928-frmwcb7g",
         69,
         "WriteSerializable",
         true,
         {},
         null,
         "Databricks-Runtime/15.4.x-scala2.12"
        ],
        [
         69,
         "2024-10-21T12:38:56Z",
         "2870784375674948",
         "brindavivek.kotha@latentviewo365.onmicrosoft.com",
         "UPDATE",
         {
          "predicate": "[]"
         },
         null,
         [
          "2666924996517916"
         ],
         "0826-105928-frmwcb7g",
         68,
         "WriteSerializable",
         false,
         {
          "executionTimeMs": "8445",
          "numAddedBytes": "8305",
          "numAddedChangeFiles": "0",
          "numAddedFiles": "1",
          "numCopiedRows": "0",
          "numDeletionVectorsAdded": "0",
          "numDeletionVectorsRemoved": "0",
          "numDeletionVectorsUpdated": "0",
          "numRemovedBytes": "7784",
          "numRemovedFiles": "1",
          "numUpdatedRows": "16",
          "rewriteTimeMs": "5289",
          "scanTimeMs": "3135"
         },
         null,
         "Databricks-Runtime/15.4.x-scala2.12"
        ],
        [
         68,
         "2024-10-21T12:38:20Z",
         "2870784375674948",
         "brindavivek.kotha@latentviewo365.onmicrosoft.com",
         "ADD COLUMNS",
         {
          "columns": "[{\"column\":{\"name\":\"Rating_double\",\"type\":\"double\",\"nullable\":true,\"metadata\":{}}}]"
         },
         null,
         [
          "2666924996517916"
         ],
         "0826-105928-frmwcb7g",
         67,
         "WriteSerializable",
         true,
         {},
         null,
         "Databricks-Runtime/15.4.x-scala2.12"
        ],
        [
         67,
         "2024-10-18T06:19:10Z",
         "2870784375674948",
         "brindavivek.kotha@latentviewo365.onmicrosoft.com",
         "UPDATE",
         {
          "predicate": "[]"
         },
         null,
         [
          "3618652633471598"
         ],
         "0826-105928-frmwcb7g",
         66,
         "WriteSerializable",
         false,
         {
          "executionTimeMs": "2029",
          "numAddedBytes": "7784",
          "numAddedChangeFiles": "0",
          "numAddedFiles": "1",
          "numCopiedRows": "0",
          "numDeletionVectorsAdded": "0",
          "numDeletionVectorsRemoved": "0",
          "numDeletionVectorsUpdated": "0",
          "numRemovedBytes": "7774",
          "numRemovedFiles": "1",
          "numUpdatedRows": "16",
          "rewriteTimeMs": "1284",
          "scanTimeMs": "745"
         },
         null,
         "Databricks-Runtime/15.4.x-scala2.12"
        ],
        [
         66,
         "2024-10-18T06:18:32Z",
         "2870784375674948",
         "brindavivek.kotha@latentviewo365.onmicrosoft.com",
         "ADD COLUMNS",
         {
          "columns": "[{\"column\":{\"name\":\"Rating_float\",\"type\":\"float\",\"nullable\":true,\"metadata\":{}}}]"
         },
         null,
         [
          "3618652633471598"
         ],
         "0826-105928-frmwcb7g",
         65,
         "WriteSerializable",
         true,
         {},
         null,
         "Databricks-Runtime/15.4.x-scala2.12"
        ],
        [
         65,
         "2024-10-18T06:01:01Z",
         "2870784375674948",
         "brindavivek.kotha@latentviewo365.onmicrosoft.com",
         "SET TBLPROPERTIES",
         {
          "properties": "{\"delta.minReaderVersion\":\"2\",\"delta.minWriterVersion\":\"5\",\"delta.columnMapping.mode\":\"name\"}"
         },
         null,
         [
          "3618652633471598"
         ],
         "0826-105928-frmwcb7g",
         64,
         "WriteSerializable",
         true,
         {},
         null,
         "Databricks-Runtime/15.4.x-scala2.12"
        ],
        [
         64,
         "2024-10-18T05:57:06Z",
         "2870784375674948",
         "brindavivek.kotha@latentviewo365.onmicrosoft.com",
         "DROP COLUMNS",
         {
          "columns": "[\"Rating_float\"]"
         },
         null,
         [
          "3618652633471598"
         ],
         "0826-105928-frmwcb7g",
         63,
         "WriteSerializable",
         true,
         {},
         null,
         "Databricks-Runtime/15.4.x-scala2.12"
        ],
        [
         63,
         "2024-10-18T05:56:58Z",
         "2870784375674948",
         "brindavivek.kotha@latentviewo365.onmicrosoft.com",
         "ADD COLUMNS",
         {
          "columns": "[{\"column\":{\"name\":\"Rating_float\",\"type\":\"float\",\"nullable\":true,\"metadata\":{}}}]"
         },
         null,
         [
          "3618652633471598"
         ],
         "0826-105928-frmwcb7g",
         62,
         "WriteSerializable",
         true,
         {},
         null,
         "Databricks-Runtime/15.4.x-scala2.12"
        ],
        [
         62,
         "2024-10-08T05:59:39Z",
         "2870784375674948",
         "brindavivek.kotha@latentviewo365.onmicrosoft.com",
         "RENAME COLUMN",
         {
          "newColumnPath": "Rating",
          "oldColumnPath": "Rating_n"
         },
         null,
         [
          "4438279648331490"
         ],
         "0826-105928-frmwcb7g",
         61,
         "WriteSerializable",
         true,
         {},
         null,
         "Databricks-Runtime/15.4.x-scala2.12"
        ],
        [
         61,
         "2024-10-08T05:59:33Z",
         "2870784375674948",
         "brindavivek.kotha@latentviewo365.onmicrosoft.com",
         "DROP COLUMNS",
         {
          "columns": "[\"Rating\"]"
         },
         null,
         [
          "4438279648331490"
         ],
         "0826-105928-frmwcb7g",
         60,
         "WriteSerializable",
         true,
         {},
         null,
         "Databricks-Runtime/15.4.x-scala2.12"
        ],
        [
         60,
         "2024-10-08T05:59:26Z",
         "2870784375674948",
         "brindavivek.kotha@latentviewo365.onmicrosoft.com",
         "UPDATE",
         {
          "predicate": "[]"
         },
         null,
         [
          "4438279648331490"
         ],
         "0826-105928-frmwcb7g",
         59,
         "WriteSerializable",
         false,
         {
          "executionTimeMs": "1653",
          "numAddedBytes": "7774",
          "numAddedChangeFiles": "0",
          "numAddedFiles": "1",
          "numCopiedRows": "0",
          "numDeletionVectorsAdded": "0",
          "numDeletionVectorsRemoved": "0",
          "numDeletionVectorsUpdated": "0",
          "numRemovedBytes": "7774",
          "numRemovedFiles": "1",
          "numUpdatedRows": "16",
          "rewriteTimeMs": "986",
          "scanTimeMs": "667"
         },
         null,
         "Databricks-Runtime/15.4.x-scala2.12"
        ],
        [
         59,
         "2024-10-08T05:59:17Z",
         "2870784375674948",
         "brindavivek.kotha@latentviewo365.onmicrosoft.com",
         "ADD COLUMNS",
         {
          "columns": "[{\"column\":{\"name\":\"Rating_n\",\"type\":\"integer\",\"nullable\":true,\"metadata\":{}}}]"
         },
         null,
         [
          "4438279648331490"
         ],
         "0826-105928-frmwcb7g",
         58,
         "WriteSerializable",
         true,
         {},
         null,
         "Databricks-Runtime/15.4.x-scala2.12"
        ],
        [
         58,
         "2024-10-08T05:57:44Z",
         "2870784375674948",
         "brindavivek.kotha@latentviewo365.onmicrosoft.com",
         "ADD COLUMNS",
         {
          "columns": "[{\"column\":{\"name\":\"Description_5\",\"type\":\"string\",\"nullable\":true,\"metadata\":{}}}]"
         },
         null,
         [
          "4438279648331490"
         ],
         "0826-105928-frmwcb7g",
         57,
         "WriteSerializable",
         true,
         {},
         null,
         "Databricks-Runtime/15.4.x-scala2.12"
        ],
        [
         57,
         "2024-10-08T05:57:32Z",
         "2870784375674948",
         "brindavivek.kotha@latentviewo365.onmicrosoft.com",
         "RENAME COLUMN",
         {
          "newColumnPath": "Description_10",
          "oldColumnPath": "Description_1"
         },
         null,
         [
          "4438279648331490"
         ],
         "0826-105928-frmwcb7g",
         56,
         "WriteSerializable",
         true,
         {},
         null,
         "Databricks-Runtime/15.4.x-scala2.12"
        ],
        [
         56,
         "2024-10-08T05:57:25Z",
         "2870784375674948",
         "brindavivek.kotha@latentviewo365.onmicrosoft.com",
         "DROP COLUMNS",
         {
          "columns": "[\"Description_3\"]"
         },
         null,
         [
          "4438279648331490"
         ],
         "0826-105928-frmwcb7g",
         55,
         "WriteSerializable",
         true,
         {},
         null,
         "Databricks-Runtime/15.4.x-scala2.12"
        ],
        [
         55,
         "2024-10-08T05:49:27Z",
         "2870784375674948",
         "brindavivek.kotha@latentviewo365.onmicrosoft.com",
         "RENAME COLUMN",
         {
          "newColumnPath": "Rating",
          "oldColumnPath": "Rating_n"
         },
         null,
         [
          "4438279648331490"
         ],
         "0826-105928-frmwcb7g",
         54,
         "WriteSerializable",
         true,
         {},
         null,
         "Databricks-Runtime/15.4.x-scala2.12"
        ],
        [
         54,
         "2024-10-08T05:49:16Z",
         "2870784375674948",
         "brindavivek.kotha@latentviewo365.onmicrosoft.com",
         "DROP COLUMNS",
         {
          "columns": "[\"Rating\"]"
         },
         null,
         [
          "4438279648331490"
         ],
         "0826-105928-frmwcb7g",
         53,
         "WriteSerializable",
         true,
         {},
         null,
         "Databricks-Runtime/15.4.x-scala2.12"
        ],
        [
         53,
         "2024-10-08T05:49:01Z",
         "2870784375674948",
         "brindavivek.kotha@latentviewo365.onmicrosoft.com",
         "UPDATE",
         {
          "predicate": "[]"
         },
         null,
         [
          "4438279648331490"
         ],
         "0826-105928-frmwcb7g",
         52,
         "WriteSerializable",
         false,
         {
          "executionTimeMs": "1494",
          "numAddedBytes": "7774",
          "numAddedChangeFiles": "0",
          "numAddedFiles": "1",
          "numCopiedRows": "0",
          "numDeletionVectorsAdded": "0",
          "numDeletionVectorsRemoved": "0",
          "numDeletionVectorsUpdated": "0",
          "numRemovedBytes": "7786",
          "numRemovedFiles": "1",
          "numUpdatedRows": "16",
          "rewriteTimeMs": "838",
          "scanTimeMs": "656"
         },
         null,
         "Databricks-Runtime/15.4.x-scala2.12"
        ],
        [
         52,
         "2024-10-08T05:48:53Z",
         "2870784375674948",
         "brindavivek.kotha@latentviewo365.onmicrosoft.com",
         "ADD COLUMNS",
         {
          "columns": "[{\"column\":{\"name\":\"Rating_n\",\"type\":\"string\",\"nullable\":true,\"metadata\":{}}}]"
         },
         null,
         [
          "4438279648331490"
         ],
         "0826-105928-frmwcb7g",
         51,
         "WriteSerializable",
         true,
         {},
         null,
         "Databricks-Runtime/15.4.x-scala2.12"
        ],
        [
         51,
         "2024-10-08T05:35:25Z",
         "2870784375674948",
         "brindavivek.kotha@latentviewo365.onmicrosoft.com",
         "RENAME COLUMN",
         {
          "newColumnPath": "Rating",
          "oldColumnPath": "Rating_t"
         },
         null,
         [
          "4438279648331490"
         ],
         "0826-105928-frmwcb7g",
         50,
         "WriteSerializable",
         true,
         {},
         null,
         "Databricks-Runtime/15.4.x-scala2.12"
        ],
        [
         50,
         "2024-10-08T05:35:14Z",
         "2870784375674948",
         "brindavivek.kotha@latentviewo365.onmicrosoft.com",
         "DROP COLUMNS",
         {
          "columns": "[\"Rating\"]"
         },
         null,
         [
          "4438279648331490"
         ],
         "0826-105928-frmwcb7g",
         49,
         "WriteSerializable",
         true,
         {},
         null,
         "Databricks-Runtime/15.4.x-scala2.12"
        ],
        [
         49,
         "2024-10-08T05:34:19Z",
         "2870784375674948",
         "brindavivek.kotha@latentviewo365.onmicrosoft.com",
         "UPDATE",
         {
          "predicate": "[]"
         },
         null,
         [
          "4438279648331490"
         ],
         "0826-105928-frmwcb7g",
         48,
         "WriteSerializable",
         false,
         {
          "executionTimeMs": "1551",
          "numAddedBytes": "7786",
          "numAddedChangeFiles": "0",
          "numAddedFiles": "1",
          "numCopiedRows": "0",
          "numDeletionVectorsAdded": "0",
          "numDeletionVectorsRemoved": "0",
          "numDeletionVectorsUpdated": "0",
          "numRemovedBytes": "7774",
          "numRemovedFiles": "1",
          "numUpdatedRows": "16",
          "rewriteTimeMs": "877",
          "scanTimeMs": "673"
         },
         null,
         "Databricks-Runtime/15.4.x-scala2.12"
        ],
        [
         48,
         "2024-10-08T05:34:10Z",
         "2870784375674948",
         "brindavivek.kotha@latentviewo365.onmicrosoft.com",
         "ADD COLUMNS",
         {
          "columns": "[{\"column\":{\"name\":\"Rating_t\",\"type\":\"integer\",\"nullable\":true,\"metadata\":{}}}]"
         },
         null,
         [
          "4438279648331490"
         ],
         "0826-105928-frmwcb7g",
         47,
         "WriteSerializable",
         true,
         {},
         null,
         "Databricks-Runtime/15.4.x-scala2.12"
        ],
        [
         47,
         "2024-10-08T05:19:38Z",
         "2870784375674948",
         "brindavivek.kotha@latentviewo365.onmicrosoft.com",
         "RENAME COLUMN",
         {
          "newColumnPath": "Rating",
          "oldColumnPath": "Rating_n"
         },
         null,
         [
          "4438279648331490"
         ],
         "0826-105928-frmwcb7g",
         46,
         "WriteSerializable",
         true,
         {},
         null,
         "Databricks-Runtime/15.4.x-scala2.12"
        ],
        [
         46,
         "2024-10-08T05:18:49Z",
         "2870784375674948",
         "brindavivek.kotha@latentviewo365.onmicrosoft.com",
         "DROP COLUMNS",
         {
          "columns": "[\"Rating\"]"
         },
         null,
         [
          "4438279648331490"
         ],
         "0826-105928-frmwcb7g",
         45,
         "WriteSerializable",
         true,
         {},
         null,
         "Databricks-Runtime/15.4.x-scala2.12"
        ],
        [
         45,
         "2024-10-08T05:18:23Z",
         "2870784375674948",
         "brindavivek.kotha@latentviewo365.onmicrosoft.com",
         "UPDATE",
         {
          "predicate": "[]"
         },
         null,
         [
          "4438279648331490"
         ],
         "0826-105928-frmwcb7g",
         44,
         "WriteSerializable",
         false,
         {
          "executionTimeMs": "1908",
          "numAddedBytes": "7774",
          "numAddedChangeFiles": "0",
          "numAddedFiles": "1",
          "numCopiedRows": "0",
          "numDeletionVectorsAdded": "0",
          "numDeletionVectorsRemoved": "0",
          "numDeletionVectorsUpdated": "0",
          "numRemovedBytes": "7280",
          "numRemovedFiles": "1",
          "numUpdatedRows": "16",
          "rewriteTimeMs": "1139",
          "scanTimeMs": "769"
         },
         null,
         "Databricks-Runtime/15.4.x-scala2.12"
        ],
        [
         44,
         "2024-10-08T05:18:03Z",
         "2870784375674948",
         "brindavivek.kotha@latentviewo365.onmicrosoft.com",
         "ADD COLUMNS",
         {
          "columns": "[{\"column\":{\"name\":\"Rating_n\",\"type\":\"integer\",\"nullable\":true,\"metadata\":{}}}]"
         },
         null,
         [
          "4438279648331490"
         ],
         "0826-105928-frmwcb7g",
         43,
         "WriteSerializable",
         true,
         {},
         null,
         "Databricks-Runtime/15.4.x-scala2.12"
        ],
        [
         43,
         "2024-10-08T05:16:41Z",
         "2870784375674948",
         "brindavivek.kotha@latentviewo365.onmicrosoft.com",
         "DROP COLUMNS",
         {
          "columns": "[\"Rating_n\"]"
         },
         null,
         [
          "4438279648331490"
         ],
         "0826-105928-frmwcb7g",
         42,
         "WriteSerializable",
         true,
         {},
         null,
         "Databricks-Runtime/15.4.x-scala2.12"
        ],
        [
         42,
         "2024-10-08T05:16:11Z",
         "2870784375674948",
         "brindavivek.kotha@latentviewo365.onmicrosoft.com",
         "ADD COLUMNS",
         {
          "columns": "[{\"column\":{\"name\":\"Rating_n\",\"type\":\"string\",\"nullable\":true,\"metadata\":{}}}]"
         },
         null,
         [
          "4438279648331490"
         ],
         "0826-105928-frmwcb7g",
         41,
         "WriteSerializable",
         true,
         {},
         null,
         "Databricks-Runtime/15.4.x-scala2.12"
        ],
        [
         41,
         "2024-10-08T05:12:36Z",
         "2870784375674948",
         "brindavivek.kotha@latentviewo365.onmicrosoft.com",
         "UPDATE",
         {
          "predicate": "[]"
         },
         null,
         [
          "4438279648331490"
         ],
         "0826-105928-frmwcb7g",
         40,
         "WriteSerializable",
         false,
         {
          "executionTimeMs": "4272",
          "numAddedBytes": "7280",
          "numAddedChangeFiles": "0",
          "numAddedFiles": "1",
          "numCopiedRows": "0",
          "numDeletionVectorsAdded": "0",
          "numDeletionVectorsRemoved": "0",
          "numDeletionVectorsUpdated": "0",
          "numRemovedBytes": "7997",
          "numRemovedFiles": "2",
          "numUpdatedRows": "16",
          "rewriteTimeMs": "3043",
          "scanTimeMs": "1210"
         },
         null,
         "Databricks-Runtime/15.4.x-scala2.12"
        ],
        [
         40,
         "2024-10-08T05:11:40Z",
         "2870784375674948",
         "brindavivek.kotha@latentviewo365.onmicrosoft.com",
         "ADD COLUMNS",
         {
          "columns": "[{\"column\":{\"name\":\"Rating\",\"type\":\"string\",\"nullable\":true,\"metadata\":{}}}]"
         },
         null,
         [
          "4438279648331490"
         ],
         "0826-105928-frmwcb7g",
         39,
         "WriteSerializable",
         true,
         {},
         null,
         "Databricks-Runtime/15.4.x-scala2.12"
        ],
        [
         39,
         "2024-10-08T04:55:46Z",
         "2870784375674948",
         "brindavivek.kotha@latentviewo365.onmicrosoft.com",
         "ADD COLUMNS",
         {
          "columns": "[{\"column\":{\"name\":\"Description_3\",\"type\":\"string\",\"nullable\":true,\"metadata\":{}}}]"
         },
         null,
         [
          "4438279648331490"
         ],
         "0826-105928-frmwcb7g",
         38,
         "WriteSerializable",
         true,
         {},
         null,
         "Databricks-Runtime/15.4.x-scala2.12"
        ],
        [
         38,
         "2024-10-08T04:55:42Z",
         "2870784375674948",
         "brindavivek.kotha@latentviewo365.onmicrosoft.com",
         "RENAME COLUMN",
         {
          "newColumnPath": "Description_1",
          "oldColumnPath": "Description_10"
         },
         null,
         [
          "4438279648331490"
         ],
         "0826-105928-frmwcb7g",
         37,
         "WriteSerializable",
         true,
         {},
         null,
         "Databricks-Runtime/15.4.x-scala2.12"
        ],
        [
         37,
         "2024-10-08T04:55:35Z",
         "2870784375674948",
         "brindavivek.kotha@latentviewo365.onmicrosoft.com",
         "DROP COLUMNS",
         {
          "columns": "[\"Description_8\"]"
         },
         null,
         [
          "4438279648331490"
         ],
         "0826-105928-frmwcb7g",
         36,
         "WriteSerializable",
         true,
         {},
         null,
         "Databricks-Runtime/15.4.x-scala2.12"
        ],
        [
         36,
         "2024-10-03T09:21:18Z",
         "2870784375674948",
         "brindavivek.kotha@latentviewo365.onmicrosoft.com",
         "ADD COLUMNS",
         {
          "columns": "[{\"column\":{\"name\":\"Description_8\",\"type\":\"string\",\"nullable\":true,\"metadata\":{}}}]"
         },
         null,
         [
          "4409076708719166"
         ],
         "0826-105928-frmwcb7g",
         35,
         "WriteSerializable",
         true,
         {},
         null,
         "Databricks-Runtime/15.4.x-scala2.12"
        ],
        [
         35,
         "2024-10-03T09:21:15Z",
         "2870784375674948",
         "brindavivek.kotha@latentviewo365.onmicrosoft.com",
         "RENAME COLUMN",
         {
          "newColumnPath": "Description_10",
          "oldColumnPath": "Description_1"
         },
         null,
         [
          "4409076708719166"
         ],
         "0826-105928-frmwcb7g",
         34,
         "WriteSerializable",
         true,
         {},
         null,
         "Databricks-Runtime/15.4.x-scala2.12"
        ],
        [
         34,
         "2024-10-03T09:21:12Z",
         "2870784375674948",
         "brindavivek.kotha@latentviewo365.onmicrosoft.com",
         "DROP COLUMNS",
         {
          "columns": "[\"Description_18\"]"
         },
         null,
         [
          "4409076708719166"
         ],
         "0826-105928-frmwcb7g",
         33,
         "WriteSerializable",
         true,
         {},
         null,
         "Databricks-Runtime/15.4.x-scala2.12"
        ],
        [
         33,
         "2024-10-03T09:13:18Z",
         "2870784375674948",
         "brindavivek.kotha@latentviewo365.onmicrosoft.com",
         "ADD COLUMNS",
         {
          "columns": "[{\"column\":{\"name\":\"Description_18\",\"type\":\"string\",\"nullable\":true,\"metadata\":{}}}]"
         },
         null,
         [
          "4409076708719166"
         ],
         "0826-105928-frmwcb7g",
         32,
         "WriteSerializable",
         true,
         {},
         null,
         "Databricks-Runtime/15.4.x-scala2.12"
        ],
        [
         32,
         "2024-10-03T09:13:07Z",
         "2870784375674948",
         "brindavivek.kotha@latentviewo365.onmicrosoft.com",
         "RENAME COLUMN",
         {
          "newColumnPath": "Description_1",
          "oldColumnPath": "Description_10"
         },
         null,
         [
          "4409076708719166"
         ],
         "0826-105928-frmwcb7g",
         31,
         "WriteSerializable",
         true,
         {},
         null,
         "Databricks-Runtime/15.4.x-scala2.12"
        ],
        [
         31,
         "2024-10-03T09:13:01Z",
         "2870784375674948",
         "brindavivek.kotha@latentviewo365.onmicrosoft.com",
         "DROP COLUMNS",
         {
          "columns": "[\"Description_8\"]"
         },
         null,
         [
          "4409076708719166"
         ],
         "0826-105928-frmwcb7g",
         30,
         "WriteSerializable",
         true,
         {},
         null,
         "Databricks-Runtime/15.4.x-scala2.12"
        ],
        [
         30,
         "2024-10-03T09:11:02Z",
         "2870784375674948",
         "brindavivek.kotha@latentviewo365.onmicrosoft.com",
         "DROP COLUMNS",
         {
          "columns": "[\"Description_18\"]"
         },
         null,
         [
          "4409076708719166"
         ],
         "0826-105928-frmwcb7g",
         29,
         "WriteSerializable",
         true,
         {},
         null,
         "Databricks-Runtime/15.4.x-scala2.12"
        ],
        [
         29,
         "2024-10-03T09:10:51Z",
         "2870784375674948",
         "brindavivek.kotha@latentviewo365.onmicrosoft.com",
         "RENAME COLUMN",
         {
          "newColumnPath": "Description_10",
          "oldColumnPath": "Description_1"
         },
         null,
         [
          "4409076708719166"
         ],
         "0826-105928-frmwcb7g",
         28,
         "WriteSerializable",
         true,
         {},
         null,
         "Databricks-Runtime/15.4.x-scala2.12"
        ],
        [
         28,
         "2024-10-03T09:10:43Z",
         "2870784375674948",
         "brindavivek.kotha@latentviewo365.onmicrosoft.com",
         "ADD COLUMNS",
         {
          "columns": "[{\"column\":{\"name\":\"Description_8\",\"type\":\"string\",\"nullable\":true,\"metadata\":{}}}]"
         },
         null,
         [
          "4409076708719166"
         ],
         "0826-105928-frmwcb7g",
         27,
         "WriteSerializable",
         true,
         {},
         null,
         "Databricks-Runtime/15.4.x-scala2.12"
        ],
        [
         27,
         "2024-10-03T09:08:49Z",
         "2870784375674948",
         "brindavivek.kotha@latentviewo365.onmicrosoft.com",
         "RENAME COLUMN",
         {
          "newColumnPath": "Description_1",
          "oldColumnPath": "Description_10"
         },
         null,
         [
          "4409076708719166"
         ],
         "0826-105928-frmwcb7g",
         26,
         "WriteSerializable",
         true,
         {},
         null,
         "Databricks-Runtime/15.4.x-scala2.12"
        ],
        [
         26,
         "2024-10-03T09:08:44Z",
         "2870784375674948",
         "brindavivek.kotha@latentviewo365.onmicrosoft.com",
         "ADD COLUMNS",
         {
          "columns": "[{\"column\":{\"name\":\"Description_18\",\"type\":\"string\",\"nullable\":true,\"metadata\":{}}}]"
         },
         null,
         [
          "4409076708719166"
         ],
         "0826-105928-frmwcb7g",
         25,
         "WriteSerializable",
         true,
         {},
         null,
         "Databricks-Runtime/15.4.x-scala2.12"
        ],
        [
         25,
         "2024-10-03T09:08:16Z",
         "2870784375674948",
         "brindavivek.kotha@latentviewo365.onmicrosoft.com",
         "DROP COLUMNS",
         {
          "columns": "[\"Description_8\"]"
         },
         null,
         [
          "4409076708719166"
         ],
         "0826-105928-frmwcb7g",
         24,
         "WriteSerializable",
         true,
         {},
         null,
         "Databricks-Runtime/15.4.x-scala2.12"
        ],
        [
         24,
         "2024-10-03T09:02:49Z",
         "2870784375674948",
         "brindavivek.kotha@latentviewo365.onmicrosoft.com",
         "ADD COLUMNS",
         {
          "columns": "[{\"column\":{\"name\":\"Description_8\",\"type\":\"string\",\"nullable\":true,\"metadata\":{}}}]"
         },
         null,
         [
          "4409076708719166"
         ],
         "0826-105928-frmwcb7g",
         23,
         "WriteSerializable",
         true,
         {},
         null,
         "Databricks-Runtime/15.4.x-scala2.12"
        ],
        [
         23,
         "2024-10-03T09:02:37Z",
         "2870784375674948",
         "brindavivek.kotha@latentviewo365.onmicrosoft.com",
         "RENAME COLUMN",
         {
          "newColumnPath": "Description_10",
          "oldColumnPath": "Description_1"
         },
         null,
         [
          "4409076708719166"
         ],
         "0826-105928-frmwcb7g",
         22,
         "WriteSerializable",
         true,
         {},
         null,
         "Databricks-Runtime/15.4.x-scala2.12"
        ],
        [
         22,
         "2024-10-03T09:02:14Z",
         "2870784375674948",
         "brindavivek.kotha@latentviewo365.onmicrosoft.com",
         "DROP COLUMNS",
         {
          "columns": "[\"Description_5\"]"
         },
         null,
         [
          "4409076708719166"
         ],
         "0826-105928-frmwcb7g",
         21,
         "WriteSerializable",
         true,
         {},
         null,
         "Databricks-Runtime/15.4.x-scala2.12"
        ],
        [
         21,
         "2024-10-03T07:09:44Z",
         "2870784375674948",
         "brindavivek.kotha@latentviewo365.onmicrosoft.com",
         "RENAME COLUMN",
         {
          "newColumnPath": "Description_1",
          "oldColumnPath": "Description_11"
         },
         null,
         [
          "4409076708719166"
         ],
         "0826-105928-frmwcb7g",
         20,
         "WriteSerializable",
         true,
         {},
         null,
         "Databricks-Runtime/15.4.x-scala2.12"
        ],
        [
         20,
         "2024-10-03T07:09:36Z",
         "2870784375674948",
         "brindavivek.kotha@latentviewo365.onmicrosoft.com",
         "ADD COLUMNS",
         {
          "columns": "[{\"column\":{\"name\":\"Description_5\",\"type\":\"string\",\"nullable\":true,\"metadata\":{}}}]"
         },
         null,
         [
          "4409076708719166"
         ],
         "0826-105928-frmwcb7g",
         19,
         "WriteSerializable",
         true,
         {},
         null,
         "Databricks-Runtime/15.4.x-scala2.12"
        ],
        [
         19,
         "2024-10-03T07:09:26Z",
         "2870784375674948",
         "brindavivek.kotha@latentviewo365.onmicrosoft.com",
         "DROP COLUMNS",
         {
          "columns": "[\"Description_4\"]"
         },
         null,
         [
          "4409076708719166"
         ],
         "0826-105928-frmwcb7g",
         18,
         "WriteSerializable",
         true,
         {},
         null,
         "Databricks-Runtime/15.4.x-scala2.12"
        ],
        [
         18,
         "2024-10-03T07:07:18Z",
         "2870784375674948",
         "brindavivek.kotha@latentviewo365.onmicrosoft.com",
         "RENAME COLUMN",
         {
          "newColumnPath": "Description_11",
          "oldColumnPath": "Description_1"
         },
         null,
         [
          "4409076708719166"
         ],
         "0826-105928-frmwcb7g",
         17,
         "WriteSerializable",
         true,
         {},
         null,
         "Databricks-Runtime/15.4.x-scala2.12"
        ],
        [
         17,
         "2024-10-03T06:53:04Z",
         "2870784375674948",
         "brindavivek.kotha@latentviewo365.onmicrosoft.com",
         "ADD COLUMNS",
         {
          "columns": "[{\"column\":{\"name\":\"Description_4\",\"type\":\"string\",\"nullable\":true,\"metadata\":{}}}]"
         },
         null,
         [
          "4409076708719166"
         ],
         "0826-105928-frmwcb7g",
         16,
         "WriteSerializable",
         true,
         {},
         null,
         "Databricks-Runtime/15.4.x-scala2.12"
        ],
        [
         16,
         "2024-10-03T06:42:30Z",
         "2870784375674948",
         "brindavivek.kotha@latentviewo365.onmicrosoft.com",
         "DROP COLUMNS",
         {
          "columns": "[\"Description_3\"]"
         },
         null,
         [
          "4409076708719166"
         ],
         "0826-105928-frmwcb7g",
         15,
         "WriteSerializable",
         true,
         {},
         null,
         "Databricks-Runtime/15.4.x-scala2.12"
        ],
        [
         15,
         "2024-10-03T06:27:20Z",
         "2870784375674948",
         "brindavivek.kotha@latentviewo365.onmicrosoft.com",
         "ADD COLUMNS",
         {
          "columns": "[{\"column\":{\"name\":\"Description_3\",\"type\":\"string\",\"nullable\":true,\"metadata\":{}}}]"
         },
         null,
         [
          "4409076708719166"
         ],
         "0826-105928-frmwcb7g",
         14,
         "WriteSerializable",
         true,
         {},
         null,
         "Databricks-Runtime/15.4.x-scala2.12"
        ],
        [
         14,
         "2024-10-03T06:25:14Z",
         "2870784375674948",
         "brindavivek.kotha@latentviewo365.onmicrosoft.com",
         "ADD COLUMNS",
         {
          "columns": "[{\"column\":{\"name\":\"Description_2\",\"type\":\"string\",\"nullable\":true,\"metadata\":{}}}]"
         },
         null,
         [
          "4409076708719166"
         ],
         "0826-105928-frmwcb7g",
         13,
         "WriteSerializable",
         true,
         {},
         null,
         "Databricks-Runtime/15.4.x-scala2.12"
        ],
        [
         13,
         "2024-10-03T06:24:16Z",
         "2870784375674948",
         "brindavivek.kotha@latentviewo365.onmicrosoft.com",
         "ADD COLUMNS",
         {
          "columns": "[{\"column\":{\"name\":\"Description_1\",\"type\":\"string\",\"nullable\":true,\"metadata\":{}}}]"
         },
         null,
         [
          "4409076708719166"
         ],
         "0826-105928-frmwcb7g",
         12,
         "WriteSerializable",
         true,
         {},
         null,
         "Databricks-Runtime/15.4.x-scala2.12"
        ],
        [
         12,
         "2024-10-03T06:12:54Z",
         "2870784375674948",
         "brindavivek.kotha@latentviewo365.onmicrosoft.com",
         "ADD COLUMNS",
         {
          "columns": "[{\"column\":{\"name\":\"Description\",\"type\":\"string\",\"nullable\":true,\"metadata\":{}}}]"
         },
         null,
         [
          "4409076708719166"
         ],
         "0826-105928-frmwcb7g",
         11,
         "WriteSerializable",
         true,
         {},
         null,
         "Databricks-Runtime/15.4.x-scala2.12"
        ],
        [
         11,
         "2024-10-03T04:55:59Z",
         "2870784375674948",
         "brindavivek.kotha@latentviewo365.onmicrosoft.com",
         "ADD COLUMNS",
         {
          "columns": "[{\"column\":{\"name\":\"Comments\",\"type\":\"string\",\"nullable\":true,\"metadata\":{}}}]"
         },
         null,
         [
          "4409076708719166"
         ],
         "0826-105928-frmwcb7g",
         10,
         "WriteSerializable",
         true,
         {},
         null,
         "Databricks-Runtime/15.4.x-scala2.12"
        ],
        [
         10,
         "2024-09-25T05:34:54Z",
         "1260073923394757",
         "vishal.kokkula@latentviewo365.onmicrosoft.com",
         "WRITE",
         {
          "mode": "Append",
          "partitionBy": "[]",
          "statsOnLoad": "false"
         },
         null,
         [
          "3565766524707894"
         ],
         "0826-105928-frmwcb7g",
         9,
         "WriteSerializable",
         true,
         {
          "numFiles": "1",
          "numOutputBytes": "3423",
          "numOutputRows": "1"
         },
         null,
         "Databricks-Runtime/15.4.x-scala2.12"
        ],
        [
         9,
         "2024-09-24T17:50:28Z",
         "2870784375674948",
         "brindavivek.kotha@latentviewo365.onmicrosoft.com",
         "RENAME COLUMN",
         {
          "newColumnPath": "Reviews",
          "oldColumnPath": "Reviews_new"
         },
         [
          "",
          null,
          null,
          "",
          null,
          null
         ],
         null,
         null,
         8,
         "WriteSerializable",
         true,
         {},
         null,
         "Databricks-Runtime/15.3.x-photon-scala2.12"
        ],
        [
         8,
         "2024-09-24T17:50:27Z",
         "2870784375674948",
         "brindavivek.kotha@latentviewo365.onmicrosoft.com",
         "DROP COLUMNS",
         {
          "columns": "[\"Reviews\"]"
         },
         [
          "",
          null,
          null,
          "",
          null,
          null
         ],
         null,
         null,
         7,
         "WriteSerializable",
         true,
         {},
         null,
         "Databricks-Runtime/15.3.x-photon-scala2.12"
        ],
        [
         7,
         "2024-09-24T17:50:25Z",
         "2870784375674948",
         "brindavivek.kotha@latentviewo365.onmicrosoft.com",
         "UPDATE",
         {
          "predicate": "[]"
         },
         [
          "",
          null,
          null,
          "",
          null,
          null
         ],
         null,
         null,
         6,
         "WriteSerializable",
         false,
         {
          "executionTimeMs": "1169",
          "numAddedBytes": "4574",
          "numAddedChangeFiles": "0",
          "numAddedFiles": "1",
          "numCopiedRows": "0",
          "numDeletionVectorsAdded": "0",
          "numDeletionVectorsRemoved": "0",
          "numDeletionVectorsUpdated": "0",
          "numRemovedBytes": "3363",
          "numRemovedFiles": "1",
          "numUpdatedRows": "15",
          "rewriteTimeMs": "1102",
          "scanTimeMs": "51"
         },
         null,
         "Databricks-Runtime/15.3.x-photon-scala2.12"
        ],
        [
         6,
         "2024-09-24T17:50:22Z",
         "2870784375674948",
         "brindavivek.kotha@latentviewo365.onmicrosoft.com",
         "ADD COLUMNS",
         {
          "columns": "[{\"column\":{\"name\":\"Reviews_new\",\"type\":\"varchar(255)\",\"nullable\":true,\"metadata\":{}}}]"
         },
         [
          "",
          null,
          null,
          "",
          null,
          null
         ],
         null,
         null,
         5,
         "WriteSerializable",
         true,
         {},
         null,
         "Databricks-Runtime/15.3.x-photon-scala2.12"
        ],
        [
         5,
         "2024-09-24T17:45:23Z",
         "2870784375674948",
         "brindavivek.kotha@latentviewo365.onmicrosoft.com",
         "RENAME COLUMN",
         {
          "newColumnPath": "Reviews",
          "oldColumnPath": "Comments"
         },
         [
          "",
          null,
          null,
          "",
          null,
          null
         ],
         null,
         null,
         4,
         "WriteSerializable",
         true,
         {},
         null,
         "Databricks-Runtime/15.3.x-photon-scala2.12"
        ],
        [
         4,
         "2024-09-24T17:44:21Z",
         "2870784375674948",
         "brindavivek.kotha@latentviewo365.onmicrosoft.com",
         "ADD COLUMNS",
         {
          "columns": "[{\"column\":{\"name\":\"Comments\",\"type\":\"string\",\"nullable\":true,\"metadata\":{}}}]"
         },
         [
          "",
          null,
          null,
          "",
          null,
          null
         ],
         null,
         null,
         3,
         "WriteSerializable",
         true,
         {},
         null,
         "Databricks-Runtime/15.3.x-photon-scala2.12"
        ],
        [
         3,
         "2024-09-24T17:38:42Z",
         "2870784375674948",
         "brindavivek.kotha@latentviewo365.onmicrosoft.com",
         "DROP COLUMNS",
         {
          "columns": "[\"Comments\"]"
         },
         [
          "",
          null,
          null,
          "",
          null,
          null
         ],
         null,
         null,
         2,
         "WriteSerializable",
         true,
         {},
         null,
         "Databricks-Runtime/15.3.x-photon-scala2.12"
        ],
        [
         2,
         "2024-09-24T17:38:41Z",
         "2870784375674948",
         "brindavivek.kotha@latentviewo365.onmicrosoft.com",
         "SET TBLPROPERTIES",
         {
          "properties": "{\"delta.minReaderVersion\":\"2\",\"delta.minWriterVersion\":\"5\",\"delta.columnMapping.mode\":\"name\"}"
         },
         [
          "",
          null,
          null,
          "",
          null,
          null
         ],
         null,
         null,
         1,
         "WriteSerializable",
         true,
         {},
         null,
         "Databricks-Runtime/15.3.x-photon-scala2.12"
        ],
        [
         1,
         "2024-09-24T17:26:15Z",
         "2870784375674948",
         "brindavivek.kotha@latentviewo365.onmicrosoft.com",
         "ADD COLUMNS",
         {
          "columns": "[{\"column\":{\"name\":\"Comments\",\"type\":\"string\",\"nullable\":true,\"metadata\":{}}}]"
         },
         [
          "",
          null,
          null,
          "",
          null,
          null
         ],
         null,
         null,
         0,
         "WriteSerializable",
         true,
         {},
         null,
         "Databricks-Runtime/15.3.x-photon-scala2.12"
        ],
        [
         0,
         "2024-08-26T11:23:07Z",
         "2870784375674948",
         "brindavivek.kotha@latentviewo365.onmicrosoft.com",
         "CREATE OR REPLACE TABLE AS SELECT",
         {
          "clusterBy": "[]",
          "description": null,
          "isManaged": "true",
          "partitionBy": "[]",
          "properties": "{\"delta.enableDeletionVectors\":\"true\"}",
          "statsOnLoad": "false"
         },
         null,
         [
          "3358756682702763"
         ],
         "0826-105928-frmwcb7g",
         null,
         "WriteSerializable",
         false,
         {
          "numFiles": "1",
          "numOutputBytes": "3363",
          "numOutputRows": "15"
         },
         null,
         "Databricks-Runtime/15.4.x-scala2.12"
        ]
       ],
       "datasetInfos": [
        {
         "name": "_sqldf",
         "schema": {
          "fields": [
           {
            "metadata": {},
            "name": "version",
            "nullable": true,
            "type": "long"
           },
           {
            "metadata": {},
            "name": "timestamp",
            "nullable": true,
            "type": "timestamp"
           },
           {
            "metadata": {},
            "name": "userId",
            "nullable": true,
            "type": "string"
           },
           {
            "metadata": {},
            "name": "userName",
            "nullable": true,
            "type": "string"
           },
           {
            "metadata": {},
            "name": "operation",
            "nullable": true,
            "type": "string"
           },
           {
            "metadata": {},
            "name": "operationParameters",
            "nullable": true,
            "type": {
             "keyType": "string",
             "type": "map",
             "valueContainsNull": true,
             "valueType": "string"
            }
           },
           {
            "metadata": {},
            "name": "job",
            "nullable": true,
            "type": {
             "fields": [
              {
               "metadata": {},
               "name": "jobId",
               "nullable": true,
               "type": "string"
              },
              {
               "metadata": {},
               "name": "jobName",
               "nullable": true,
               "type": "string"
              },
              {
               "metadata": {},
               "name": "jobRunId",
               "nullable": true,
               "type": "string"
              },
              {
               "metadata": {},
               "name": "runId",
               "nullable": true,
               "type": "string"
              },
              {
               "metadata": {},
               "name": "jobOwnerId",
               "nullable": true,
               "type": "string"
              },
              {
               "metadata": {},
               "name": "triggerType",
               "nullable": true,
               "type": "string"
              }
             ],
             "type": "struct"
            }
           },
           {
            "metadata": {},
            "name": "notebook",
            "nullable": true,
            "type": {
             "fields": [
              {
               "metadata": {},
               "name": "notebookId",
               "nullable": true,
               "type": "string"
              }
             ],
             "type": "struct"
            }
           },
           {
            "metadata": {},
            "name": "clusterId",
            "nullable": true,
            "type": "string"
           },
           {
            "metadata": {},
            "name": "readVersion",
            "nullable": true,
            "type": "long"
           },
           {
            "metadata": {},
            "name": "isolationLevel",
            "nullable": true,
            "type": "string"
           },
           {
            "metadata": {},
            "name": "isBlindAppend",
            "nullable": true,
            "type": "boolean"
           },
           {
            "metadata": {},
            "name": "operationMetrics",
            "nullable": true,
            "type": {
             "keyType": "string",
             "type": "map",
             "valueContainsNull": true,
             "valueType": "string"
            }
           },
           {
            "metadata": {},
            "name": "userMetadata",
            "nullable": true,
            "type": "string"
           },
           {
            "metadata": {},
            "name": "engineInfo",
            "nullable": true,
            "type": "string"
           }
          ],
          "type": "struct"
         },
         "tableIdentifier": null,
         "typeStr": "pyspark.sql.connect.dataframe.DataFrame"
        }
       ],
       "dbfsResultPath": null,
       "isJsonSchema": true,
       "metadata": {
        "createTempViewForImplicitDf": true,
        "dataframeName": "_sqldf",
        "executionCount": 10
       },
       "overflow": false,
       "plotOptions": {
        "customPlotOptions": {},
        "displayType": "table",
        "pivotAggregation": null,
        "pivotColumns": null,
        "xColumns": null,
        "yColumns": null
       },
       "removedWidgets": [],
       "schema": [
        {
         "metadata": "{}",
         "name": "version",
         "type": "\"long\""
        },
        {
         "metadata": "{}",
         "name": "timestamp",
         "type": "\"timestamp\""
        },
        {
         "metadata": "{}",
         "name": "userId",
         "type": "\"string\""
        },
        {
         "metadata": "{}",
         "name": "userName",
         "type": "\"string\""
        },
        {
         "metadata": "{}",
         "name": "operation",
         "type": "\"string\""
        },
        {
         "metadata": "{}",
         "name": "operationParameters",
         "type": "{\"type\":\"map\",\"keyType\":\"string\",\"valueType\":\"string\",\"valueContainsNull\":true}"
        },
        {
         "metadata": "{}",
         "name": "job",
         "type": "{\"type\":\"struct\",\"fields\":[{\"name\":\"jobId\",\"type\":\"string\",\"nullable\":true,\"metadata\":{}},{\"name\":\"jobName\",\"type\":\"string\",\"nullable\":true,\"metadata\":{}},{\"name\":\"jobRunId\",\"type\":\"string\",\"nullable\":true,\"metadata\":{}},{\"name\":\"runId\",\"type\":\"string\",\"nullable\":true,\"metadata\":{}},{\"name\":\"jobOwnerId\",\"type\":\"string\",\"nullable\":true,\"metadata\":{}},{\"name\":\"triggerType\",\"type\":\"string\",\"nullable\":true,\"metadata\":{}}]}"
        },
        {
         "metadata": "{}",
         "name": "notebook",
         "type": "{\"type\":\"struct\",\"fields\":[{\"name\":\"notebookId\",\"type\":\"string\",\"nullable\":true,\"metadata\":{}}]}"
        },
        {
         "metadata": "{}",
         "name": "clusterId",
         "type": "\"string\""
        },
        {
         "metadata": "{}",
         "name": "readVersion",
         "type": "\"long\""
        },
        {
         "metadata": "{}",
         "name": "isolationLevel",
         "type": "\"string\""
        },
        {
         "metadata": "{}",
         "name": "isBlindAppend",
         "type": "\"boolean\""
        },
        {
         "metadata": "{}",
         "name": "operationMetrics",
         "type": "{\"type\":\"map\",\"keyType\":\"string\",\"valueType\":\"string\",\"valueContainsNull\":true}"
        },
        {
         "metadata": "{}",
         "name": "userMetadata",
         "type": "\"string\""
        },
        {
         "metadata": "{}",
         "name": "engineInfo",
         "type": "\"string\""
        }
       ],
       "type": "table"
      }
     },
     "output_type": "display_data"
    }
   ],
   "source": [
    "%sql\n",
    "describe history ds_training_1.ds_silver.book "
   ]
  },
  {
   "cell_type": "code",
   "execution_count": 0,
   "metadata": {
    "application/vnd.databricks.v1+cell": {
     "cellMetadata": {
      "byteLimit": 2048000,
      "rowLimit": 10000
     },
     "inputWidgets": {},
     "nuid": "0f5aab8a-9c7d-4011-ad13-7551ae00947c",
     "showTitle": false,
     "title": ""
    }
   },
   "outputs": [
    {
     "output_type": "stream",
     "name": "stdout",
     "output_type": "stream",
     "text": [
      "Data type changes detected:\nColumn: 'Description' at index 4\nColumn: 'Rating' at index 8\n[{'change_column_name': 'Description', 'change_index': 4}, {'change_column_name': 'Rating', 'change_index': 8}]\n8\n4\n0\n"
     ]
    },
    {
     "output_type": "display_data",
     "data": {
      "text/html": [
       "<style scoped>\n",
       "  .table-result-container {\n",
       "    max-height: 300px;\n",
       "    overflow: auto;\n",
       "  }\n",
       "  table, th, td {\n",
       "    border: 1px solid black;\n",
       "    border-collapse: collapse;\n",
       "  }\n",
       "  th, td {\n",
       "    padding: 5px;\n",
       "  }\n",
       "  th {\n",
       "    text-align: left;\n",
       "  }\n",
       "</style><div class='table-result-container'><table class='table-result'><thead style='background-color: white'><tr><th>catalog_name</th><th>schema_name</th><th>table_name</th><th>schema_version</th><th>created_by</th><th>modified_by</th><th>modified_timestamp</th><th>schema_json</th><th>change_type</th><th>column_name</th><th>table_version</th><th>table_version_timestamp</th><th>status</th><th>check_timestamp</th><th>schema_change_alert_status</th><th>rollback_notification_status</th></tr></thead><tbody><tr><td>ds_training_1</td><td>ds_silver</td><td>book</td><td>6</td><td>brindavivek.kotha@latentviewo365.onmicrosoft.com</td><td>brindavivek.kotha@latentviewo365.onmicrosoft.com</td><td>2024-10-21T12:38:20Z</td><td>null</td><td>DATA TYPE CHANGE</td><td>Rating</td><td>68</td><td>2024-10-21T12:38:20Z</td><td>Inactive</td><td>2024-10-21T13:11:10.943063Z</td><td>Pending</td><td>NA</td></tr><tr><td>ds_training_1</td><td>ds_silver</td><td>book</td><td>7</td><td>brindavivek.kotha@latentviewo365.onmicrosoft.com</td><td>brindavivek.kotha@latentviewo365.onmicrosoft.com</td><td>2024-10-21T12:41:01Z</td><td>null</td><td>DATA TYPE CHANGE</td><td>Description</td><td>72</td><td>2024-10-21T12:41:01Z</td><td>Inactive</td><td>2024-10-21T13:11:10.943084Z</td><td>Pending</td><td>NA</td></tr><tr><td>ds_training_1</td><td>ds_silver</td><td>book</td><td>8</td><td>brindavivek.kotha@latentviewo365.onmicrosoft.com</td><td>brindavivek.kotha@latentviewo365.onmicrosoft.com</td><td>2024-10-21T13:07:45Z</td><td>{\"BookID\": \"INT\", \"Title\": \"STRING\", \"AuthorID\": \"INT\", \"Publication_Date\": \"DATE\", \"Price\": \"DECIMAL\", \"Genre\": \"STRING\", \"Pages\": \"INT\", \"Publisher\": \"STRING\", \"Reviews\": \"STRING\", \"Comments\": \"STRING\", \"Description_10\": \"STRING\", \"Description_2\": \"STRING\", \"Rating_float\": \"FLOAT\", \"Rating\": \"DOUBLE\", \"Description\": \"STRING\"}</td><td>DROP COLUMNS</td><td>Description_5</td><td>76</td><td>2024-10-21T13:07:45Z</td><td>Active</td><td>2024-10-21T13:11:10.943136Z</td><td>Pending</td><td>NA</td></tr></tbody></table></div>"
      ]
     },
     "metadata": {
      "application/vnd.databricks.v1+output": {
       "addedWidgets": {},
       "aggData": [],
       "aggError": "",
       "aggOverflow": false,
       "aggSchema": [],
       "aggSeriesLimitReached": false,
       "aggType": "",
       "arguments": {},
       "columnCustomDisplayInfos": {},
       "data": [
        [
         "ds_training_1",
         "ds_silver",
         "book",
         6,
         "brindavivek.kotha@latentviewo365.onmicrosoft.com",
         "brindavivek.kotha@latentviewo365.onmicrosoft.com",
         "2024-10-21T12:38:20Z",
         null,
         "DATA TYPE CHANGE",
         "Rating",
         68,
         "2024-10-21T12:38:20Z",
         "Inactive",
         "2024-10-21T13:11:10.943063Z",
         "Pending",
         "NA"
        ],
        [
         "ds_training_1",
         "ds_silver",
         "book",
         7,
         "brindavivek.kotha@latentviewo365.onmicrosoft.com",
         "brindavivek.kotha@latentviewo365.onmicrosoft.com",
         "2024-10-21T12:41:01Z",
         null,
         "DATA TYPE CHANGE",
         "Description",
         72,
         "2024-10-21T12:41:01Z",
         "Inactive",
         "2024-10-21T13:11:10.943084Z",
         "Pending",
         "NA"
        ],
        [
         "ds_training_1",
         "ds_silver",
         "book",
         8,
         "brindavivek.kotha@latentviewo365.onmicrosoft.com",
         "brindavivek.kotha@latentviewo365.onmicrosoft.com",
         "2024-10-21T13:07:45Z",
         "{\"BookID\": \"INT\", \"Title\": \"STRING\", \"AuthorID\": \"INT\", \"Publication_Date\": \"DATE\", \"Price\": \"DECIMAL\", \"Genre\": \"STRING\", \"Pages\": \"INT\", \"Publisher\": \"STRING\", \"Reviews\": \"STRING\", \"Comments\": \"STRING\", \"Description_10\": \"STRING\", \"Description_2\": \"STRING\", \"Rating_float\": \"FLOAT\", \"Rating\": \"DOUBLE\", \"Description\": \"STRING\"}",
         "DROP COLUMNS",
         "Description_5",
         76,
         "2024-10-21T13:07:45Z",
         "Active",
         "2024-10-21T13:11:10.943136Z",
         "Pending",
         "NA"
        ]
       ],
       "datasetInfos": [],
       "dbfsResultPath": null,
       "isJsonSchema": true,
       "metadata": {},
       "overflow": false,
       "plotOptions": {
        "customPlotOptions": {},
        "displayType": "table",
        "pivotAggregation": null,
        "pivotColumns": null,
        "xColumns": null,
        "yColumns": null
       },
       "removedWidgets": [],
       "schema": [
        {
         "metadata": "{}",
         "name": "catalog_name",
         "type": "\"string\""
        },
        {
         "metadata": "{}",
         "name": "schema_name",
         "type": "\"string\""
        },
        {
         "metadata": "{}",
         "name": "table_name",
         "type": "\"string\""
        },
        {
         "metadata": "{}",
         "name": "schema_version",
         "type": "\"integer\""
        },
        {
         "metadata": "{}",
         "name": "created_by",
         "type": "\"string\""
        },
        {
         "metadata": "{}",
         "name": "modified_by",
         "type": "\"string\""
        },
        {
         "metadata": "{}",
         "name": "modified_timestamp",
         "type": "\"timestamp\""
        },
        {
         "metadata": "{}",
         "name": "schema_json",
         "type": "\"string\""
        },
        {
         "metadata": "{}",
         "name": "change_type",
         "type": "\"string\""
        },
        {
         "metadata": "{}",
         "name": "column_name",
         "type": "\"string\""
        },
        {
         "metadata": "{}",
         "name": "table_version",
         "type": "\"integer\""
        },
        {
         "metadata": "{}",
         "name": "table_version_timestamp",
         "type": "\"timestamp\""
        },
        {
         "metadata": "{}",
         "name": "status",
         "type": "\"string\""
        },
        {
         "metadata": "{}",
         "name": "check_timestamp",
         "type": "\"timestamp\""
        },
        {
         "metadata": "{}",
         "name": "schema_change_alert_status",
         "type": "\"string\""
        },
        {
         "metadata": "{}",
         "name": "rollback_notification_status",
         "type": "\"string\""
        }
       ],
       "type": "table"
      }
     },
     "output_type": "display_data"
    },
    {
     "output_type": "stream",
     "name": "stdout",
     "output_type": "stream",
     "text": [
      "Schema registry updated with new version and details.\nOperations recorded after the latest check:\n{'operation': 'DROP COLUMNS', 'modified_by': 'brindavivek.kotha@latentviewo365.onmicrosoft.com', 'add_column_names': [], 'drop_column_name': 'Description_5', 'rename_column_name': None, 'timestamp': datetime.datetime(2024, 10, 21, 13, 7, 45), 'version': 76}\n{'operation': 'RENAME COLUMN', 'modified_by': 'brindavivek.kotha@latentviewo365.onmicrosoft.com', 'add_column_names': [], 'drop_column_name': None, 'rename_column_name': 'Description', 'timestamp': datetime.datetime(2024, 10, 21, 12, 41, 32), 'version': 75}\n{'operation': 'DROP COLUMNS', 'modified_by': 'brindavivek.kotha@latentviewo365.onmicrosoft.com', 'add_column_names': [], 'drop_column_name': 'Description', 'rename_column_name': None, 'timestamp': datetime.datetime(2024, 10, 21, 12, 41, 20), 'version': 74}\n{'operation': 'UPDATE', 'modified_by': 'brindavivek.kotha@latentviewo365.onmicrosoft.com', 'add_column_names': [], 'drop_column_name': None, 'rename_column_name': None, 'timestamp': datetime.datetime(2024, 10, 21, 12, 41, 8), 'version': 73}\n{'operation': 'ADD COLUMNS', 'modified_by': 'brindavivek.kotha@latentviewo365.onmicrosoft.com', 'add_column_names': ['Description_V'], 'drop_column_name': None, 'rename_column_name': None, 'timestamp': datetime.datetime(2024, 10, 21, 12, 41, 1), 'version': 72}\n{'operation': 'RENAME COLUMN', 'modified_by': 'brindavivek.kotha@latentviewo365.onmicrosoft.com', 'add_column_names': ['Description_V'], 'drop_column_name': None, 'rename_column_name': 'Rating', 'timestamp': datetime.datetime(2024, 10, 21, 12, 39, 16), 'version': 71}\n{'operation': 'DROP COLUMNS', 'modified_by': 'brindavivek.kotha@latentviewo365.onmicrosoft.com', 'add_column_names': ['Description_V'], 'drop_column_name': 'Rating', 'rename_column_name': None, 'timestamp': datetime.datetime(2024, 10, 21, 12, 39, 7), 'version': 70}\n{'operation': 'UPDATE', 'modified_by': 'brindavivek.kotha@latentviewo365.onmicrosoft.com', 'add_column_names': ['Description_V'], 'drop_column_name': None, 'rename_column_name': None, 'timestamp': datetime.datetime(2024, 10, 21, 12, 38, 56), 'version': 69}\n{'operation': 'ADD COLUMNS', 'modified_by': 'brindavivek.kotha@latentviewo365.onmicrosoft.com', 'add_column_names': ['Rating_double'], 'drop_column_name': None, 'rename_column_name': None, 'timestamp': datetime.datetime(2024, 10, 21, 12, 38, 20), 'version': 68}\n"
     ]
    }
   ],
   "source": [
    "from pyspark.sql.types import StructType, StructField, StringType, IntegerType, TimestampType\n",
    "import json\n",
    "from datetime import datetime\n",
    "\n",
    "def update_schema_registry_with_changes(table_reference):\n",
    "    catalog_name, schema_name, table_name = table_reference.split('.')\n",
    "\n",
    "    # Step 1: Retrieve the latest check_timestamp from the schema registry\n",
    "    latest_timestamp_df = spark.sql(f\"\"\"\n",
    "        SELECT check_timestamp \n",
    "        FROM {catalog_name}.default.schema_registry \n",
    "        WHERE table_name = '{table_name}' \n",
    "        ORDER BY modified_timestamp DESC \n",
    "        LIMIT 1\n",
    "    \"\"\")\n",
    "    \n",
    "    latest_check_timestamp = None\n",
    "    if latest_timestamp_df.count() > 0:\n",
    "        latest_check_timestamp = latest_timestamp_df.collect()[0]['check_timestamp']\n",
    "\n",
    "    # Step 2: Determine the new schema version\n",
    "    max_version_df = spark.sql(f\"\"\"\n",
    "        SELECT MAX(schema_version) AS max_version \n",
    "        FROM {catalog_name}.default.schema_registry \n",
    "        WHERE table_name = '{table_name}'\n",
    "    \"\"\")\n",
    "    \n",
    "    max_version = max_version_df.collect()[0]['max_version'] if max_version_df.count() > 0 else None\n",
    "    new_version = (max_version + 1) if max_version is not None else 1\n",
    "\n",
    "    # Step 3: Get the describe history to find the last operation and its parameters\n",
    "    describe_history_df = spark.sql(f\"DESCRIBE HISTORY {catalog_name}.{schema_name}.{table_name}\")\n",
    "    operations_after_check_timestamp = []\n",
    "    data_type_change_detected = False\n",
    "    change_column_name = None\n",
    "\n",
    "    column_names=[]\n",
    "\n",
    "    # Step 4: Collect operations after the latest check timestamp\n",
    "    for row in describe_history_df.collect():\n",
    "        operation_timestamp = row['timestamp']\n",
    "        if latest_check_timestamp and operation_timestamp <= latest_check_timestamp:\n",
    "            continue\n",
    "\n",
    "        operation = row['operation']\n",
    "        modified_by = row['userName']\n",
    "        operation_parameters = row['operationParameters']\n",
    "\n",
    "        # Handle operation parameters\n",
    "        if isinstance(operation_parameters, str):\n",
    "            operation_params_dict = json.loads(operation_parameters)\n",
    "        else:\n",
    "            operation_params_dict = operation_parameters\n",
    "        \n",
    "        drop_column_name = None\n",
    "        rename_column_name = None\n",
    "        \n",
    "        if operation == \"ADD COLUMNS\" and operation_params_dict is not None:\n",
    "            if 'columns' in operation_params_dict:\n",
    "                columns_list = json.loads(operation_params_dict['columns'])\n",
    "                column_names = [col['column']['name'] for col in columns_list]\n",
    "                \n",
    "        elif operation == \"DROP COLUMNS\" and operation_params_dict is not None:\n",
    "            if 'columns' in operation_params_dict:\n",
    "                columns = json.loads(operation_params_dict['columns'])\n",
    "                drop_column_name = columns[0]  # Assuming only one column is dropped\n",
    "                \n",
    "        elif operation == \"RENAME COLUMN\" and operation_params_dict is not None:\n",
    "            if 'oldColumnPath' in operation_params_dict and 'newColumnPath' in operation_params_dict:\n",
    "                rename_column_name = operation_params_dict['newColumnPath']  # Store the new column name\n",
    "\n",
    "        # Append operation details to the list\n",
    "        operations_after_check_timestamp.append({\n",
    "            \"operation\": operation,\n",
    "            \"modified_by\": modified_by,\n",
    "            \"add_column_names\": column_names,\n",
    "            \"drop_column_name\": drop_column_name,\n",
    "            \"rename_column_name\": rename_column_name,\n",
    "            \"timestamp\": operation_timestamp,\n",
    "            \"version\": row['version']\n",
    "        })\n",
    "\n",
    "    # Step 5: Detect data type change based on the specific sequence of operations\n",
    "    # Step 5: Detect data type change based on the specific sequence of operations\n",
    "    operation_sequences = [\n",
    "        (\"RENAME COLUMN\", \"DROP COLUMNS\", \"UPDATE\", \"ADD COLUMNS\")\n",
    "    ]\n",
    "    data_type_changes = []  # List to store the detected changes\n",
    "\n",
    "    # Iterate over the operations\n",
    "    for index in range(len(operations_after_check_timestamp) - 3):\n",
    "        # Extract the last four operations from the current index\n",
    "        current_sequence = (\n",
    "            operations_after_check_timestamp[index]['operation'],\n",
    "            operations_after_check_timestamp[index + 1]['operation'],\n",
    "            operations_after_check_timestamp[index + 2]['operation'],\n",
    "            operations_after_check_timestamp[index + 3]['operation']\n",
    "        )\n",
    "        \n",
    "        # Check if the current sequence matches the defined operation sequence\n",
    "        if current_sequence == operation_sequences[0]:\n",
    "            rename_operation = operations_after_check_timestamp[index]\n",
    "            drop_operation = operations_after_check_timestamp[index + 1]\n",
    "            \n",
    "            # Check if the drop column name matches the rename column name\n",
    "            if drop_operation.get('drop_column_name') == rename_operation.get('rename_column_name'):\n",
    "                change_column_name = rename_operation.get('rename_column_name')\n",
    "                change_index = index + 3  # Mark the index of the change\n",
    "                \n",
    "                # Append the result to the list\n",
    "                data_type_changes.append({\n",
    "                    'change_column_name': change_column_name,\n",
    "                    'change_index': change_index\n",
    "                })\n",
    "\n",
    "    # Output the results\n",
    "    if data_type_changes:\n",
    "        data_type_change_detected = True\n",
    "        print(\"Data type changes detected:\")\n",
    "        for change in data_type_changes:\n",
    "            print(f\"Column: '{change['change_column_name']}' at index {change['change_index']}\")\n",
    "    else:\n",
    "        print(\"No data type changes detected.\")\n",
    "    print(data_type_changes)\n",
    "\n",
    "\n",
    "    # Prepare the final data for the schema registry\n",
    "    schema_registry_data = []\n",
    "\n",
    "    # Step 6: Get created_by from information_schema.tables\n",
    "    created_by_df = spark.sql(f\"\"\"\n",
    "        SELECT created_by \n",
    "        FROM {catalog_name}.information_schema.tables \n",
    "        WHERE table_schema = '{schema_name}' AND table_name = '{table_name}'\n",
    "    \"\"\")\n",
    "\n",
    "    created_by = created_by_df.collect()[0]['created_by'] if created_by_df.count() > 0 else modified_by\n",
    "\n",
    "    # Step 7: Retrieve schema from information_schema for the schema_json\n",
    "    schema_df = spark.sql(f\"\"\"\n",
    "        SELECT COLUMN_NAME, DATA_TYPE \n",
    "        FROM {catalog_name}.information_schema.columns \n",
    "        WHERE table_schema = '{schema_name}' AND table_name = '{table_name}'\n",
    "    \"\"\")\n",
    "\n",
    "    schema_json = {row['COLUMN_NAME']: row['DATA_TYPE'] for row in schema_df.collect()}\n",
    "\n",
    "    # Step 8: Handle data type change or normal operations\n",
    "    # Initialize variables\n",
    "    schema_version = new_version - 1\n",
    "    skip_operations_until = -1  # To track how many iterations to skip after a data type change\n",
    "\n",
    "    # Step 8: Handle operations (data type changes and normal operations in sequence)\n",
    "    for i in range(len(operations_after_check_timestamp) - 1, -1, -1):  # Iterating backwards\n",
    "        operation_detail = operations_after_check_timestamp[i]\n",
    "\n",
    "        # Check if we should skip this iteration (after a data type change)\n",
    "        if i >= skip_operations_until and skip_operations_until != -1:\n",
    "            continue  # Skip the next 3 operations after a data type change\n",
    "\n",
    "        # Check if the current index matches any data type change\n",
    "        matching_change = next((change for change in data_type_changes if change['change_index'] == i), None)\n",
    "        print(i)\n",
    "        if matching_change:\n",
    "            # Data type change detected, record as a single entry\n",
    "            schema_version += 1\n",
    "            schema_registry_data.append({\n",
    "                \"catalog_name\": catalog_name,\n",
    "                \"schema_name\": schema_name,\n",
    "                \"table_name\": table_name,\n",
    "                \"schema_version\": schema_version,  # Continuous schema versioning\n",
    "                \"created_by\": created_by,\n",
    "                \"modified_by\": operation_detail['modified_by'],\n",
    "                \"modified_timestamp\": operation_detail['timestamp'],\n",
    "                \"schema_json\": json.dumps(schema_json) if (i - 3 == 0) else None,  # Record schema_json for first change\n",
    "                \"change_type\": \"DATA TYPE CHANGE\",\n",
    "                \"column_name\": matching_change['change_column_name'],\n",
    "                \"table_version\": int(operation_detail['version']),\n",
    "                \"table_version_timestamp\": operation_detail['timestamp'],\n",
    "                \"status\": \"Active\" if (i - 3 == 0) else \"Inactive\",  # Mark as Active or Inactive\n",
    "                \"check_timestamp\": datetime.utcnow(),\n",
    "                \"schema_change_alert_status\": \"Pending\",  # Default value\n",
    "                \"rollback_notification_status\": \"NA\"  # Default value\n",
    "            })\n",
    "\n",
    "            # Set skip_operations_until to skip the next 3 iterations\n",
    "            skip_operations_until = i - 3\n",
    "            continue  # Skip to the next operation\n",
    "        \n",
    "        # Normal operation\n",
    "        schema_version += 1\n",
    "        schema_registry_data.append({\n",
    "            \"catalog_name\": catalog_name,\n",
    "            \"schema_name\": schema_name,\n",
    "            \"table_name\": table_name,\n",
    "            \"schema_version\": schema_version,  # Continuous schema versioning\n",
    "            \"created_by\": created_by,\n",
    "            \"modified_by\": operation_detail['modified_by'],\n",
    "            \"modified_timestamp\": operation_detail['timestamp'],\n",
    "            \"schema_json\": json.dumps(schema_json) if i == 0 else None,  # No schema_json for normal operations\n",
    "            \"change_type\": operation_detail['operation'],\n",
    "            \"column_name\": operation_detail.get('rename_column_name') or operation_detail.get('drop_column_name') or operation_detail.get('add_column_names'),\n",
    "            \"table_version\": int(operation_detail['version']),\n",
    "            \"table_version_timestamp\": operation_detail['timestamp'],\n",
    "            \"status\": \"Active\" if i == 0 else \"Inactive\",  # Normal operations are marked as Inactive\n",
    "            \"check_timestamp\": datetime.utcnow(),\n",
    "            \"schema_change_alert_status\": \"Pending\",  # Default value\n",
    "            \"rollback_notification_status\": \"NA\"  # Default value\n",
    "        })\n",
    "\n",
    "\n",
    "\n",
    "    \n",
    "\n",
    "\n",
    "    # Step 9: Update all existing records for this table's status to \"inactive\"\n",
    "    if schema_registry_data:\n",
    "        update_query = f\"\"\"\n",
    "            UPDATE {catalog_name}.default.schema_registry \n",
    "            SET status = 'Inactive' \n",
    "            WHERE table_name = '{table_name}' AND status == 'Active'\n",
    "        \"\"\"\n",
    "        spark.sql(update_query)\n",
    "\n",
    "    # Step 10: Define the schema for the DataFrame\n",
    "    schema = StructType([\n",
    "        StructField(\"catalog_name\", StringType(), True),\n",
    "        StructField(\"schema_name\", StringType(), True),\n",
    "        StructField(\"table_name\", StringType(), True),\n",
    "        StructField(\"schema_version\", IntegerType(), True),\n",
    "        StructField(\"created_by\", StringType(), True),\n",
    "        StructField(\"modified_by\", StringType(), True),\n",
    "        StructField(\"modified_timestamp\", TimestampType(), True),\n",
    "        StructField(\"schema_json\", StringType(), True),\n",
    "        StructField(\"change_type\", StringType(), True),\n",
    "        StructField(\"column_name\", StringType(), True),\n",
    "        StructField(\"table_version\", IntegerType(), True),\n",
    "        StructField(\"table_version_timestamp\", TimestampType(), True),\n",
    "        StructField(\"status\", StringType(), True),\n",
    "        StructField(\"check_timestamp\", TimestampType(), True),\n",
    "        StructField(\"schema_change_alert_status\", StringType(), True),  # New field added\n",
    "        StructField(\"rollback_notification_status\", StringType(), True)  # New field added\n",
    "    ])\n",
    "\n",
    "    # Step 11: Create the DataFrame with all operations\n",
    "    schema_registry_df = spark.createDataFrame(schema_registry_data, schema=schema)\n",
    "    display(schema_registry_df)\n",
    "\n",
    "    # Step 12: Write the new entries to the schema registry\n",
    "    #schema_registry_df.write.mode(\"append\").saveAsTable(f\"{catalog_name}.default.schema_registry\")\n",
    "    print(\"Schema registry updated with new version and details.\")\n",
    "\n",
    "    # Printing the operations for verification\n",
    "    print(\"Operations recorded after the latest check:\")\n",
    "    for operation in operations_after_check_timestamp:\n",
    "        print(operation)\n",
    "        #print(len(operations_after_check_timestamp))\n",
    "\n",
    "# Example call to the function\n",
    "update_schema_registry_with_changes(\"ds_training_1.ds_silver.book\")\n",
    "\n",
    "\n"
   ]
  }
 ],
 "metadata": {
  "application/vnd.databricks.v1+notebook": {
   "dashboards": [],
   "environmentMetadata": null,
   "language": "python",
   "notebookMetadata": {
    "mostRecentlyExecutedCommandWithImplicitDF": {
     "commandId": 2666924996517948,
     "dataframes": [
      "_sqldf"
     ]
    },
    "pythonIndentUnit": 4
   },
   "notebookName": "Data type changes",
   "widgets": {}
  }
 },
 "nbformat": 4,
 "nbformat_minor": 0
}
