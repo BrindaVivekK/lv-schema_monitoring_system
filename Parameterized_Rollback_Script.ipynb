{
 "cells": [
  {
   "cell_type": "code",
   "execution_count": 0,
   "metadata": {
    "application/vnd.databricks.v1+cell": {
     "cellMetadata": {
      "byteLimit": 2048000,
      "rowLimit": 10000
     },
     "inputWidgets": {},
     "nuid": "b6ed5921-fb4c-4245-a007-3921af7ad70d",
     "showTitle": false,
     "title": ""
    }
   },
   "outputs": [],
   "source": [
    "# Create widgets for input\n",
    "dbutils.widgets.text(\"table_reference\", \"\", \"Table Reference\")\n",
    "dbutils.widgets.text(\"rollback_version\", \"\", \"Rollback Version (Optional)\")\n",
    "dbutils.widgets.text(\"rollback_timestamp\", \"\", \"Rollback Timestamp (Optional)\")\n"
   ]
  },
  {
   "cell_type": "code",
   "execution_count": 0,
   "metadata": {
    "application/vnd.databricks.v1+cell": {
     "cellMetadata": {
      "byteLimit": 2048000,
      "rowLimit": 10000
     },
     "inputWidgets": {},
     "nuid": "ea5dcb97-82c9-4741-a9ef-dec3bea8265a",
     "showTitle": false,
     "title": ""
    }
   },
   "outputs": [],
   "source": [
    "# Retrieve widget values\n",
    "table_reference = dbutils.widgets.get(\"table_reference\")\n",
    "rollback_version = dbutils.widgets.get(\"rollback_version\")\n",
    "rollback_timestamp = dbutils.widgets.get(\"rollback_timestamp\")"
   ]
  },
  {
   "cell_type": "code",
   "execution_count": 0,
   "metadata": {
    "application/vnd.databricks.v1+cell": {
     "cellMetadata": {
      "byteLimit": 2048000,
      "rowLimit": 10000
     },
     "inputWidgets": {},
     "nuid": "39ea3333-87aa-4563-bad8-8e2a0c8b3c84",
     "showTitle": false,
     "title": ""
    }
   },
   "outputs": [],
   "source": [
    "from datetime import datetime\n",
    "import json\n",
    "from pyspark.sql import SparkSession, Row\n",
    "from pyspark.sql.types import StructType, StructField, StringType, IntegerType, TimestampType\n",
    "\n",
    "# Assuming Spark session is already created\n",
    "spark = SparkSession.builder.getOrCreate()\n",
    "\n",
    "def parse_table_reference(table_reference):\n",
    "    \"\"\"Parse the catalog, schema, and table from the input.\"\"\"\n",
    "    return table_reference.split('.')\n",
    "\n",
    "def validate_rollback_params(rollback_version, rollback_timestamp):\n",
    "    \"\"\"Validate input parameters for rollback.\"\"\"\n",
    "    if not rollback_version and not rollback_timestamp:\n",
    "        raise ValueError(\"Either rollback_version or rollback_timestamp must be provided.\")\n",
    "\n",
    "def generate_rollback_clause(rollback_version, rollback_timestamp):\n",
    "    \"\"\"Generate the rollback clause for the SQL command.\"\"\"\n",
    "    if rollback_version:\n",
    "        return f\"TO VERSION AS OF {rollback_version}\"\n",
    "    elif rollback_timestamp:\n",
    "        return f\"TO TIMESTAMP AS OF '{rollback_timestamp}'\"\n",
    "\n",
    "def restore_table(catalog_name, schema_name, table_name, rollback_clause):\n",
    "    \"\"\"Restore the table using Delta's RESTORE command.\"\"\"\n",
    "    rollback_query = f\"RESTORE TABLE {catalog_name}.{schema_name}.{table_name} {rollback_clause}\"\n",
    "    spark.sql(rollback_query)\n",
    "\n",
    "def get_latest_history_entry(catalog_name, schema_name, table_name):\n",
    "    \"\"\"Get the latest history entry after rollback.\"\"\"\n",
    "    describe_history_df = spark.sql(f\"DESCRIBE HISTORY {catalog_name}.{schema_name}.{table_name} LIMIT 1\")\n",
    "    return describe_history_df.collect()[0]\n",
    "\n",
    "def extract_operation_parameters(latest_history_entry):\n",
    "    \"\"\"Extract operation parameters from the latest history entry.\"\"\"\n",
    "    return latest_history_entry['operationParameters']\n",
    "\n",
    "def get_created_by(catalog_name, schema_name, table_name):\n",
    "    \"\"\"Get created_by from information_schema.tables.\"\"\"\n",
    "    created_by_df = spark.sql(f\"\"\"\n",
    "        SELECT created_by \n",
    "        FROM {catalog_name}.information_schema.tables \n",
    "        WHERE table_schema = '{schema_name}' AND table_name = '{table_name}'\n",
    "    \"\"\")\n",
    "    return created_by_df.collect()[0]['created_by'] if created_by_df.count() > 0 else None\n",
    "\n",
    "def get_schema_info(catalog_name, schema_name, table_name):\n",
    "    \"\"\"Get schema information from information_schema.columns.\"\"\"\n",
    "    schema_df = spark.sql(f\"\"\"\n",
    "        SELECT COLUMN_NAME, DATA_TYPE \n",
    "        FROM {catalog_name}.information_schema.columns \n",
    "        WHERE table_schema = '{schema_name}' AND table_name = '{table_name}'\n",
    "    \"\"\")\n",
    "    return {row['COLUMN_NAME']: row['DATA_TYPE'] for row in schema_df.collect()}\n",
    "\n",
    "def get_new_schema_version(catalog_name, table_name):\n",
    "    \"\"\"Determine the next schema version.\"\"\"\n",
    "    max_version_df = spark.sql(f\"\"\"\n",
    "        SELECT MAX(schema_version) AS max_version \n",
    "        FROM {catalog_name}.default.schema_registry \n",
    "        WHERE table_name = '{table_name}'\n",
    "    \"\"\")\n",
    "    return (max_version_df.collect()[0]['max_version'] + 1) if max_version_df.count() > 0 else 1\n",
    "\n",
    "def mark_previous_schema_inactive(catalog_name, table_name):\n",
    "    \"\"\"Mark previous schema entries as inactive.\"\"\"\n",
    "    update_query = f\"\"\"\n",
    "        UPDATE {catalog_name}.default.schema_registry \n",
    "        SET status = 'Inactive' \n",
    "        WHERE table_name = '{table_name}' AND status = 'Active'\n",
    "    \"\"\"\n",
    "    spark.sql(update_query)\n",
    "\n",
    "def create_rollback_entry(catalog_name, schema_name, table_name, new_schema_version, created_by, modified_by,\n",
    "                          new_modified_timestamp, schema_json, change_type_value, new_table_version,\n",
    "                          table_version_timestamp):\n",
    "    \"\"\"Prepare rollback entry as a Row object.\"\"\"\n",
    "    return Row(\n",
    "        catalog_name=catalog_name,\n",
    "        schema_name=schema_name,\n",
    "        table_name=table_name,\n",
    "        schema_version=new_schema_version,\n",
    "        created_by=created_by,\n",
    "        modified_by=modified_by,\n",
    "        modified_timestamp=new_modified_timestamp,\n",
    "        schema_json=json.dumps(schema_json),\n",
    "        change_type=change_type_value,\n",
    "        column_name=None,\n",
    "        table_version=new_table_version,\n",
    "        table_version_timestamp=table_version_timestamp,\n",
    "        status=\"Active\",\n",
    "        check_timestamp=datetime.utcnow(),\n",
    "        schema_change_alert_status=\"Pending\",\n",
    "        rollback_notification_status=\"Rollbacked\"\n",
    "    )\n",
    "\n",
    "def save_rollback_entry_to_registry(rollback_entry, catalog_name):\n",
    "    \"\"\"Save the rollback entry to the schema registry.\"\"\"\n",
    "    schema = StructType([\n",
    "        StructField(\"catalog_name\", StringType(), True),\n",
    "        StructField(\"schema_name\", StringType(), True),\n",
    "        StructField(\"table_name\", StringType(), True),\n",
    "        StructField(\"schema_version\", IntegerType(), True),\n",
    "        StructField(\"created_by\", StringType(), True),\n",
    "        StructField(\"modified_by\", StringType(), True),\n",
    "        StructField(\"modified_timestamp\", TimestampType(), True),\n",
    "        StructField(\"schema_json\", StringType(), True),\n",
    "        StructField(\"change_type\", StringType(), True),\n",
    "        StructField(\"column_name\", StringType(), True),\n",
    "        StructField(\"table_version\", IntegerType(), True),\n",
    "        StructField(\"table_version_timestamp\", TimestampType(), True),\n",
    "        StructField(\"status\", StringType(), True),\n",
    "        StructField(\"check_timestamp\", TimestampType(), True),\n",
    "        StructField(\"schema_change_alert_status\", StringType(), True),\n",
    "        StructField(\"rollback_notification_status\", StringType(), True)\n",
    "    ])\n",
    "    rollback_df = spark.createDataFrame([rollback_entry], schema=schema)\n",
    "    display(rollback_df)\n",
    "    rollback_df.write.format(\"delta\").mode(\"append\").saveAsTable(f\"{catalog_name}.default.schema_registry\")\n",
    "\n",
    "def rollback_table_with_confirmation(table_reference, rollback_version=None, rollback_timestamp=None):\n",
    "    \"\"\"Main function to perform the rollback with confirmation.\"\"\"\n",
    "    # Parse the catalog, schema, and table\n",
    "    catalog_name, schema_name, table_name = parse_table_reference(table_reference)\n",
    "    \n",
    "    # Validate input parameters\n",
    "    validate_rollback_params(rollback_version, rollback_timestamp)\n",
    "    \n",
    "    # Generate rollback clause\n",
    "    rollback_clause = generate_rollback_clause(rollback_version, rollback_timestamp)\n",
    "    \n",
    "    # Restore the table\n",
    "    restore_table(catalog_name, schema_name, table_name, rollback_clause)\n",
    "    \n",
    "    # Get latest history entry\n",
    "    latest_history_entry = get_latest_history_entry(catalog_name, schema_name, table_name)\n",
    "    \n",
    "    # Extract information from history\n",
    "    operation = latest_history_entry['operation']\n",
    "    if operation != \"RESTORE\":\n",
    "        raise ValueError(\"The operation recorded in history is not a RESTORE operation.\")\n",
    "    \n",
    "    # Extract rollback target version or timestamp from operation parameters\n",
    "    operational_parameters = extract_operation_parameters(latest_history_entry)\n",
    "    restored_version = operational_parameters.get(\"version\")\n",
    "    restored_timestamp = operational_parameters.get(\"timestamp\")\n",
    "    \n",
    "    target_version = rollback_version if rollback_version else restored_version\n",
    "    target_timestamp = rollback_timestamp if rollback_timestamp else restored_timestamp\n",
    "    \n",
    "    # Get created_by\n",
    "    created_by = get_created_by(catalog_name, schema_name, table_name)\n",
    "    \n",
    "    # Get schema information\n",
    "    schema_json = get_schema_info(catalog_name, schema_name, table_name)\n",
    "    \n",
    "    # Determine the next schema version\n",
    "    new_schema_version = get_new_schema_version(catalog_name, table_name)\n",
    "    \n",
    "    # Mark previous schema entries as inactive\n",
    "    mark_previous_schema_inactive(catalog_name, table_name)\n",
    "    \n",
    "    # Prepare rollback entry\n",
    "    change_type_value = f\"ROLLBACK TO {'VERSION' if target_version else 'TIMESTAMP'} {target_version if target_version else target_timestamp}\"\n",
    "    change_type_value = change_type_value[:50]  # Truncate if needed\n",
    "    rollback_entry = create_rollback_entry(\n",
    "        catalog_name=catalog_name,\n",
    "        schema_name=schema_name,\n",
    "        table_name=table_name,\n",
    "        new_schema_version=new_schema_version,\n",
    "        created_by=created_by,\n",
    "        modified_by=latest_history_entry['userName'],\n",
    "        new_modified_timestamp=latest_history_entry['timestamp'],\n",
    "        schema_json=schema_json,\n",
    "        change_type_value=change_type_value,\n",
    "        new_table_version=latest_history_entry['version'],\n",
    "        table_version_timestamp=latest_history_entry['timestamp']\n",
    "    )\n",
    "\n",
    "    # Save the rollback entry to the schema registry\n",
    "    save_rollback_entry_to_registry(rollback_entry, catalog_name)\n",
    "    \n",
    "    print(f\"Table {table_name} has been rolled back to {'VERSION' if target_version else 'TIMESTAMP'} {target_version if target_version else target_timestamp} and recorded in the schema registry.\")\n",
    "\n"
   ]
  },
  {
   "cell_type": "code",
   "execution_count": 0,
   "metadata": {
    "application/vnd.databricks.v1+cell": {
     "cellMetadata": {
      "byteLimit": 2048000,
      "rowLimit": 10000
     },
     "inputWidgets": {},
     "nuid": "ab23d6f0-c2fa-4d6b-9672-efd5116528a0",
     "showTitle": false,
     "title": ""
    }
   },
   "outputs": [
    {
     "output_type": "display_data",
     "data": {
      "text/html": [
       "<style scoped>\n",
       "  .table-result-container {\n",
       "    max-height: 300px;\n",
       "    overflow: auto;\n",
       "  }\n",
       "  table, th, td {\n",
       "    border: 1px solid black;\n",
       "    border-collapse: collapse;\n",
       "  }\n",
       "  th, td {\n",
       "    padding: 5px;\n",
       "  }\n",
       "  th {\n",
       "    text-align: left;\n",
       "  }\n",
       "</style><div class='table-result-container'><table class='table-result'><thead style='background-color: white'><tr><th>catalog_name</th><th>schema_name</th><th>table_name</th><th>schema_version</th><th>created_by</th><th>modified_by</th><th>modified_timestamp</th><th>schema_json</th><th>change_type</th><th>column_name</th><th>table_version</th><th>table_version_timestamp</th><th>status</th><th>check_timestamp</th><th>schema_change_alert_status</th><th>rollback_notification_status</th></tr></thead><tbody><tr><td>ds_training_1</td><td>ds_silver</td><td>customer_silver_vishal</td><td>17</td><td>vishal.kokkula@latentviewo365.onmicrosoft.com</td><td>brindavivek.kotha@latentviewo365.onmicrosoft.com</td><td>2024-10-23T10:34:35Z</td><td>{\"customer_id\": \"INT\", \"name\": \"STRING\", \"age\": \"INT\", \"gender\": \"STRING\", \"phone_number\": \"STRING\", \"email\": \"STRING\", \"account_id\": \"INT\", \"account_type\": \"STRING\", \"balance\": \"INT\", \"opened_date\": \"DATE\", \"status\": \"STRING\", \"business_date\": \"STRING\", \"test_column\": \"DATE\", \"test_column_18_10_24\": \"INT\", \"test_column_23_10\": \"INT\"}</td><td>ROLLBACK TO VERSION 20</td><td>null</td><td>25</td><td>2024-10-23T10:34:35Z</td><td>Active</td><td>2024-10-23T10:34:46.169252Z</td><td>Pending</td><td>Rollbacked</td></tr></tbody></table></div>"
      ]
     },
     "metadata": {
      "application/vnd.databricks.v1+output": {
       "addedWidgets": {},
       "aggData": [],
       "aggError": "",
       "aggOverflow": false,
       "aggSchema": [],
       "aggSeriesLimitReached": false,
       "aggType": "",
       "arguments": {},
       "columnCustomDisplayInfos": {},
       "data": [
        [
         "ds_training_1",
         "ds_silver",
         "customer_silver_vishal",
         17,
         "vishal.kokkula@latentviewo365.onmicrosoft.com",
         "brindavivek.kotha@latentviewo365.onmicrosoft.com",
         "2024-10-23T10:34:35Z",
         "{\"customer_id\": \"INT\", \"name\": \"STRING\", \"age\": \"INT\", \"gender\": \"STRING\", \"phone_number\": \"STRING\", \"email\": \"STRING\", \"account_id\": \"INT\", \"account_type\": \"STRING\", \"balance\": \"INT\", \"opened_date\": \"DATE\", \"status\": \"STRING\", \"business_date\": \"STRING\", \"test_column\": \"DATE\", \"test_column_18_10_24\": \"INT\", \"test_column_23_10\": \"INT\"}",
         "ROLLBACK TO VERSION 20",
         null,
         25,
         "2024-10-23T10:34:35Z",
         "Active",
         "2024-10-23T10:34:46.169252Z",
         "Pending",
         "Rollbacked"
        ]
       ],
       "datasetInfos": [],
       "dbfsResultPath": null,
       "isJsonSchema": true,
       "metadata": {},
       "overflow": false,
       "plotOptions": {
        "customPlotOptions": {},
        "displayType": "table",
        "pivotAggregation": null,
        "pivotColumns": null,
        "xColumns": null,
        "yColumns": null
       },
       "removedWidgets": [],
       "schema": [
        {
         "metadata": "{}",
         "name": "catalog_name",
         "type": "\"string\""
        },
        {
         "metadata": "{}",
         "name": "schema_name",
         "type": "\"string\""
        },
        {
         "metadata": "{}",
         "name": "table_name",
         "type": "\"string\""
        },
        {
         "metadata": "{}",
         "name": "schema_version",
         "type": "\"integer\""
        },
        {
         "metadata": "{}",
         "name": "created_by",
         "type": "\"string\""
        },
        {
         "metadata": "{}",
         "name": "modified_by",
         "type": "\"string\""
        },
        {
         "metadata": "{}",
         "name": "modified_timestamp",
         "type": "\"timestamp\""
        },
        {
         "metadata": "{}",
         "name": "schema_json",
         "type": "\"string\""
        },
        {
         "metadata": "{}",
         "name": "change_type",
         "type": "\"string\""
        },
        {
         "metadata": "{}",
         "name": "column_name",
         "type": "\"string\""
        },
        {
         "metadata": "{}",
         "name": "table_version",
         "type": "\"integer\""
        },
        {
         "metadata": "{}",
         "name": "table_version_timestamp",
         "type": "\"timestamp\""
        },
        {
         "metadata": "{}",
         "name": "status",
         "type": "\"string\""
        },
        {
         "metadata": "{}",
         "name": "check_timestamp",
         "type": "\"timestamp\""
        },
        {
         "metadata": "{}",
         "name": "schema_change_alert_status",
         "type": "\"string\""
        },
        {
         "metadata": "{}",
         "name": "rollback_notification_status",
         "type": "\"string\""
        }
       ],
       "type": "table"
      }
     },
     "output_type": "display_data"
    },
    {
     "output_type": "stream",
     "name": "stdout",
     "output_type": "stream",
     "text": [
      "Table customer_silver_vishal has been rolled back to VERSION 20 and recorded in the schema registry.\n"
     ]
    }
   ],
   "source": [
    "# Call the function with widget values\n",
    "rollback_table_with_confirmation(\n",
    "    table_reference=table_reference, \n",
    "    rollback_version=rollback_version if rollback_version else None, \n",
    "    rollback_timestamp=rollback_timestamp if rollback_timestamp else None\n",
    ")"
   ]
  },
  {
   "cell_type": "code",
   "execution_count": 0,
   "metadata": {
    "application/vnd.databricks.v1+cell": {
     "cellMetadata": {},
     "inputWidgets": {},
     "nuid": "c644500b-4137-4ee0-bc32-757a885ecd63",
     "showTitle": false,
     "title": ""
    }
   },
   "outputs": [],
   "source": []
  },
  {
   "cell_type": "code",
   "execution_count": 0,
   "metadata": {
    "application/vnd.databricks.v1+cell": {
     "cellMetadata": {},
     "inputWidgets": {},
     "nuid": "bd823117-6961-456f-a7df-34120786737d",
     "showTitle": false,
     "title": ""
    }
   },
   "outputs": [],
   "source": []
  }
 ],
 "metadata": {
  "application/vnd.databricks.v1+notebook": {
   "dashboards": [],
   "environmentMetadata": {
    "base_environment": "",
    "client": "1"
   },
   "language": "python",
   "notebookMetadata": {
    "pythonIndentUnit": 4
   },
   "notebookName": "Parameterized_Rollback_Script",
   "widgets": {
    "rollback_timestamp": {
     "currentValue": "",
     "nuid": "543d6931-30e0-4c54-85e2-276247266434",
     "typedWidgetInfo": {
      "autoCreated": false,
      "defaultValue": "",
      "label": "Rollback Timestamp (Optional)",
      "name": "rollback_timestamp",
      "options": {
       "widgetDisplayType": "Text",
       "validationRegex": null
      },
      "parameterDataType": "String"
     },
     "widgetInfo": {
      "widgetType": "text",
      "defaultValue": "",
      "label": "Rollback Timestamp (Optional)",
      "name": "rollback_timestamp",
      "options": {
       "widgetType": "text",
       "autoCreated": null,
       "validationRegex": null
      }
     }
    },
    "rollback_version": {
     "currentValue": "20",
     "nuid": "b11f2559-c5d8-45e1-b8a1-85a3bc5af58d",
     "typedWidgetInfo": {
      "autoCreated": false,
      "defaultValue": "",
      "label": "Rollback Version (Optional)",
      "name": "rollback_version",
      "options": {
       "widgetDisplayType": "Text",
       "validationRegex": null
      },
      "parameterDataType": "String"
     },
     "widgetInfo": {
      "widgetType": "text",
      "defaultValue": "",
      "label": "Rollback Version (Optional)",
      "name": "rollback_version",
      "options": {
       "widgetType": "text",
       "autoCreated": null,
       "validationRegex": null
      }
     }
    },
    "table_reference": {
     "currentValue": "ds_training_1.ds_silver.customer_silver_vishal",
     "nuid": "1bd30346-ae6c-447a-94f3-a696df749afa",
     "typedWidgetInfo": {
      "autoCreated": false,
      "defaultValue": "",
      "label": "Table Reference",
      "name": "table_reference",
      "options": {
       "widgetDisplayType": "Text",
       "validationRegex": null
      },
      "parameterDataType": "String"
     },
     "widgetInfo": {
      "widgetType": "text",
      "defaultValue": "",
      "label": "Table Reference",
      "name": "table_reference",
      "options": {
       "widgetType": "text",
       "autoCreated": false,
       "validationRegex": null
      }
     }
    }
   }
  }
 },
 "nbformat": 4,
 "nbformat_minor": 0
}
